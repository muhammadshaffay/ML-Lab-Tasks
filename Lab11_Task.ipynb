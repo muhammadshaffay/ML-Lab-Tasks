{
  "cells": [
    {
      "cell_type": "code",
      "source": [
        "# 20I-2391\n",
        "# Muhammad Shaffay\n",
        "# AI-K"
      ],
      "metadata": {
        "id": "pk2Ml79F8T2N"
      },
      "execution_count": null,
      "outputs": []
    },
    {
      "cell_type": "markdown",
      "metadata": {
        "id": "EDbqSKMMq8Pj"
      },
      "source": [
        "### Numpy Exercise\n",
        "In this exercise, we will be working with a dataset with the information of baseball players. Here is the code to read the dataset and convert it into lists."
      ]
    },
    {
      "cell_type": "code",
      "execution_count": 1,
      "metadata": {
        "colab": {
          "base_uri": "https://localhost:8080/"
        },
        "id": "jyUU-mPOq8Pl",
        "outputId": "bd073f5a-c1de-442e-9bdd-03525fe09738"
      },
      "outputs": [
        {
          "output_type": "stream",
          "name": "stdout",
          "text": [
            "Populating the interactive namespace from numpy and matplotlib\n"
          ]
        }
      ],
      "source": [
        "%pylab inline"
      ]
    },
    {
      "cell_type": "code",
      "execution_count": 2,
      "metadata": {
        "collapsed": true,
        "id": "zkjE42sDq8Pm"
      },
      "outputs": [],
      "source": [
        "import pandas as pd\n",
        "import numpy as np"
      ]
    },
    {
      "cell_type": "code",
      "execution_count": 3,
      "metadata": {
        "id": "BlcrOHkzq8Pm"
      },
      "outputs": [],
      "source": [
        "bbdata=pd.read_csv('./baseball.csv')\n",
        "\n",
        "height=list(bbdata['height'])\n",
        "weight=list(bbdata['weights'])"
      ]
    },
    {
      "cell_type": "code",
      "source": [
        "bbdata"
      ],
      "metadata": {
        "colab": {
          "base_uri": "https://localhost:8080/",
          "height": 423
        },
        "id": "dhw-VG4gtYvC",
        "outputId": "e9fa65cf-1e9b-40ea-8d9f-d442691a0c9c"
      },
      "execution_count": 4,
      "outputs": [
        {
          "output_type": "execute_result",
          "data": {
            "text/plain": [
              "                Name  Team        Position   height  weights   Age \n",
              "0       Adam_Donachie   BAL         Catcher      74    180.0  22.99\n",
              "1           Paul_Bako   BAL         Catcher      74    215.0  34.69\n",
              "2     Ramon_Hernandez   BAL         Catcher      72    210.0  30.78\n",
              "3        Kevin_Millar   BAL   First_Baseman      72    210.0  35.43\n",
              "4         Chris_Gomez   BAL   First_Baseman      73    188.0  35.71\n",
              "...               ...   ...             ...     ...      ...    ...\n",
              "1029    Brad_Thompson   STL  Relief_Pitcher      73    190.0  25.08\n",
              "1030    Tyler_Johnson   STL  Relief_Pitcher      74    180.0  25.73\n",
              "1031   Chris_Narveson   STL  Relief_Pitcher      75    205.0  25.19\n",
              "1032    Randy_Keisler   STL  Relief_Pitcher      75    190.0  31.01\n",
              "1033      Josh_Kinney   STL  Relief_Pitcher      73    195.0  27.92\n",
              "\n",
              "[1034 rows x 6 columns]"
            ],
            "text/html": [
              "\n",
              "  <div id=\"df-79380610-9cfd-4b7c-95ff-b249278eb9b8\">\n",
              "    <div class=\"colab-df-container\">\n",
              "      <div>\n",
              "<style scoped>\n",
              "    .dataframe tbody tr th:only-of-type {\n",
              "        vertical-align: middle;\n",
              "    }\n",
              "\n",
              "    .dataframe tbody tr th {\n",
              "        vertical-align: top;\n",
              "    }\n",
              "\n",
              "    .dataframe thead th {\n",
              "        text-align: right;\n",
              "    }\n",
              "</style>\n",
              "<table border=\"1\" class=\"dataframe\">\n",
              "  <thead>\n",
              "    <tr style=\"text-align: right;\">\n",
              "      <th></th>\n",
              "      <th>Name</th>\n",
              "      <th>Team</th>\n",
              "      <th>Position</th>\n",
              "      <th>height</th>\n",
              "      <th>weights</th>\n",
              "      <th>Age</th>\n",
              "    </tr>\n",
              "  </thead>\n",
              "  <tbody>\n",
              "    <tr>\n",
              "      <th>0</th>\n",
              "      <td>Adam_Donachie</td>\n",
              "      <td>BAL</td>\n",
              "      <td>Catcher</td>\n",
              "      <td>74</td>\n",
              "      <td>180.0</td>\n",
              "      <td>22.99</td>\n",
              "    </tr>\n",
              "    <tr>\n",
              "      <th>1</th>\n",
              "      <td>Paul_Bako</td>\n",
              "      <td>BAL</td>\n",
              "      <td>Catcher</td>\n",
              "      <td>74</td>\n",
              "      <td>215.0</td>\n",
              "      <td>34.69</td>\n",
              "    </tr>\n",
              "    <tr>\n",
              "      <th>2</th>\n",
              "      <td>Ramon_Hernandez</td>\n",
              "      <td>BAL</td>\n",
              "      <td>Catcher</td>\n",
              "      <td>72</td>\n",
              "      <td>210.0</td>\n",
              "      <td>30.78</td>\n",
              "    </tr>\n",
              "    <tr>\n",
              "      <th>3</th>\n",
              "      <td>Kevin_Millar</td>\n",
              "      <td>BAL</td>\n",
              "      <td>First_Baseman</td>\n",
              "      <td>72</td>\n",
              "      <td>210.0</td>\n",
              "      <td>35.43</td>\n",
              "    </tr>\n",
              "    <tr>\n",
              "      <th>4</th>\n",
              "      <td>Chris_Gomez</td>\n",
              "      <td>BAL</td>\n",
              "      <td>First_Baseman</td>\n",
              "      <td>73</td>\n",
              "      <td>188.0</td>\n",
              "      <td>35.71</td>\n",
              "    </tr>\n",
              "    <tr>\n",
              "      <th>...</th>\n",
              "      <td>...</td>\n",
              "      <td>...</td>\n",
              "      <td>...</td>\n",
              "      <td>...</td>\n",
              "      <td>...</td>\n",
              "      <td>...</td>\n",
              "    </tr>\n",
              "    <tr>\n",
              "      <th>1029</th>\n",
              "      <td>Brad_Thompson</td>\n",
              "      <td>STL</td>\n",
              "      <td>Relief_Pitcher</td>\n",
              "      <td>73</td>\n",
              "      <td>190.0</td>\n",
              "      <td>25.08</td>\n",
              "    </tr>\n",
              "    <tr>\n",
              "      <th>1030</th>\n",
              "      <td>Tyler_Johnson</td>\n",
              "      <td>STL</td>\n",
              "      <td>Relief_Pitcher</td>\n",
              "      <td>74</td>\n",
              "      <td>180.0</td>\n",
              "      <td>25.73</td>\n",
              "    </tr>\n",
              "    <tr>\n",
              "      <th>1031</th>\n",
              "      <td>Chris_Narveson</td>\n",
              "      <td>STL</td>\n",
              "      <td>Relief_Pitcher</td>\n",
              "      <td>75</td>\n",
              "      <td>205.0</td>\n",
              "      <td>25.19</td>\n",
              "    </tr>\n",
              "    <tr>\n",
              "      <th>1032</th>\n",
              "      <td>Randy_Keisler</td>\n",
              "      <td>STL</td>\n",
              "      <td>Relief_Pitcher</td>\n",
              "      <td>75</td>\n",
              "      <td>190.0</td>\n",
              "      <td>31.01</td>\n",
              "    </tr>\n",
              "    <tr>\n",
              "      <th>1033</th>\n",
              "      <td>Josh_Kinney</td>\n",
              "      <td>STL</td>\n",
              "      <td>Relief_Pitcher</td>\n",
              "      <td>73</td>\n",
              "      <td>195.0</td>\n",
              "      <td>27.92</td>\n",
              "    </tr>\n",
              "  </tbody>\n",
              "</table>\n",
              "<p>1034 rows × 6 columns</p>\n",
              "</div>\n",
              "      <button class=\"colab-df-convert\" onclick=\"convertToInteractive('df-79380610-9cfd-4b7c-95ff-b249278eb9b8')\"\n",
              "              title=\"Convert this dataframe to an interactive table.\"\n",
              "              style=\"display:none;\">\n",
              "        \n",
              "  <svg xmlns=\"http://www.w3.org/2000/svg\" height=\"24px\"viewBox=\"0 0 24 24\"\n",
              "       width=\"24px\">\n",
              "    <path d=\"M0 0h24v24H0V0z\" fill=\"none\"/>\n",
              "    <path d=\"M18.56 5.44l.94 2.06.94-2.06 2.06-.94-2.06-.94-.94-2.06-.94 2.06-2.06.94zm-11 1L8.5 8.5l.94-2.06 2.06-.94-2.06-.94L8.5 2.5l-.94 2.06-2.06.94zm10 10l.94 2.06.94-2.06 2.06-.94-2.06-.94-.94-2.06-.94 2.06-2.06.94z\"/><path d=\"M17.41 7.96l-1.37-1.37c-.4-.4-.92-.59-1.43-.59-.52 0-1.04.2-1.43.59L10.3 9.45l-7.72 7.72c-.78.78-.78 2.05 0 2.83L4 21.41c.39.39.9.59 1.41.59.51 0 1.02-.2 1.41-.59l7.78-7.78 2.81-2.81c.8-.78.8-2.07 0-2.86zM5.41 20L4 18.59l7.72-7.72 1.47 1.35L5.41 20z\"/>\n",
              "  </svg>\n",
              "      </button>\n",
              "      \n",
              "  <style>\n",
              "    .colab-df-container {\n",
              "      display:flex;\n",
              "      flex-wrap:wrap;\n",
              "      gap: 12px;\n",
              "    }\n",
              "\n",
              "    .colab-df-convert {\n",
              "      background-color: #E8F0FE;\n",
              "      border: none;\n",
              "      border-radius: 50%;\n",
              "      cursor: pointer;\n",
              "      display: none;\n",
              "      fill: #1967D2;\n",
              "      height: 32px;\n",
              "      padding: 0 0 0 0;\n",
              "      width: 32px;\n",
              "    }\n",
              "\n",
              "    .colab-df-convert:hover {\n",
              "      background-color: #E2EBFA;\n",
              "      box-shadow: 0px 1px 2px rgba(60, 64, 67, 0.3), 0px 1px 3px 1px rgba(60, 64, 67, 0.15);\n",
              "      fill: #174EA6;\n",
              "    }\n",
              "\n",
              "    [theme=dark] .colab-df-convert {\n",
              "      background-color: #3B4455;\n",
              "      fill: #D2E3FC;\n",
              "    }\n",
              "\n",
              "    [theme=dark] .colab-df-convert:hover {\n",
              "      background-color: #434B5C;\n",
              "      box-shadow: 0px 1px 3px 1px rgba(0, 0, 0, 0.15);\n",
              "      filter: drop-shadow(0px 1px 2px rgba(0, 0, 0, 0.3));\n",
              "      fill: #FFFFFF;\n",
              "    }\n",
              "  </style>\n",
              "\n",
              "      <script>\n",
              "        const buttonEl =\n",
              "          document.querySelector('#df-79380610-9cfd-4b7c-95ff-b249278eb9b8 button.colab-df-convert');\n",
              "        buttonEl.style.display =\n",
              "          google.colab.kernel.accessAllowed ? 'block' : 'none';\n",
              "\n",
              "        async function convertToInteractive(key) {\n",
              "          const element = document.querySelector('#df-79380610-9cfd-4b7c-95ff-b249278eb9b8');\n",
              "          const dataTable =\n",
              "            await google.colab.kernel.invokeFunction('convertToInteractive',\n",
              "                                                     [key], {});\n",
              "          if (!dataTable) return;\n",
              "\n",
              "          const docLinkHtml = 'Like what you see? Visit the ' +\n",
              "            '<a target=\"_blank\" href=https://colab.research.google.com/notebooks/data_table.ipynb>data table notebook</a>'\n",
              "            + ' to learn more about interactive tables.';\n",
              "          element.innerHTML = '';\n",
              "          dataTable['output_type'] = 'display_data';\n",
              "          await google.colab.output.renderOutput(dataTable, element);\n",
              "          const docLink = document.createElement('div');\n",
              "          docLink.innerHTML = docLinkHtml;\n",
              "          element.appendChild(docLink);\n",
              "        }\n",
              "      </script>\n",
              "    </div>\n",
              "  </div>\n",
              "  "
            ]
          },
          "metadata": {},
          "execution_count": 4
        }
      ]
    },
    {
      "cell_type": "code",
      "execution_count": 5,
      "metadata": {
        "colab": {
          "base_uri": "https://localhost:8080/",
          "height": 283
        },
        "id": "Xxp98xYeq8Pn",
        "outputId": "9a8e116d-d7f1-462f-b66f-ad5ded32b181"
      },
      "outputs": [
        {
          "output_type": "execute_result",
          "data": {
            "text/plain": [
              "<matplotlib.collections.PathCollection at 0x7fa0995a0810>"
            ]
          },
          "metadata": {},
          "execution_count": 5
        },
        {
          "output_type": "display_data",
          "data": {
            "text/plain": [
              "<Figure size 432x288 with 1 Axes>"
            ],
            "image/png": "[encoded data removed]"
          },
          "metadata": {
            "needs_background": "light"
          }
        }
      ],
      "source": [
        "plt.scatter(height,weight)"
      ]
    },
    {
      "cell_type": "markdown",
      "metadata": {
        "id": "I4di0APoq8Pn"
      },
      "source": [
        "### Real Work begins\n",
        "We have height and weidths as lists now, you task is to convert them into numpy arrays and then acheive the following insights.\n",
        "The units are height in inches, weight in Kgs"
      ]
    },
    {
      "cell_type": "code",
      "execution_count": 6,
      "metadata": {
        "collapsed": true,
        "colab": {
          "base_uri": "https://localhost:8080/"
        },
        "id": "ft0WfDpgq8Pn",
        "outputId": "c89e9fd7-c383-41b4-f823-de0439e4f7ad"
      },
      "outputs": [
        {
          "output_type": "stream",
          "name": "stdout",
          "text": [
            "[74 74 72 ... 75 75 73]\n",
            "[180. 215. 210. ... 205. 190. 195.]\n"
          ]
        }
      ],
      "source": [
        "# height is available as a regular list\n",
        "\n",
        "# Import numpy\n",
        "import numpy as np\n",
        "\n",
        "# Create a Numpy array from height: np_height\n",
        "np_height = np.array(height)\n",
        "\n",
        "# Print out np_height\n",
        "print(np_height)\n",
        "\n",
        "\n",
        "# Create array from weight with correct units: np_weight_kg \n",
        "np_weight_kg = np.array(weight)\n",
        "\n",
        "# print the array np_weight_kg\n",
        "print(np_weight_kg)"
      ]
    },
    {
      "cell_type": "markdown",
      "metadata": {
        "id": "9lqakWZmq8Po"
      },
      "source": [
        "* 1 meter = 39.3701 inches"
      ]
    },
    {
      "cell_type": "code",
      "execution_count": 7,
      "metadata": {
        "collapsed": true,
        "colab": {
          "base_uri": "https://localhost:8080/"
        },
        "id": "1g310TFtq8Po",
        "outputId": "4fd6649d-1e95-4ad8-a2ec-76ecca001fc0"
      },
      "outputs": [
        {
          "output_type": "stream",
          "name": "stdout",
          "text": [
            "[1.87959899 1.87959899 1.82879901 ... 1.90499897 1.90499897 1.854199  ]\n"
          ]
        }
      ],
      "source": [
        "# Convert np_height to meters: np_height_m\n",
        "np_height_m = np_height/39.3701\n",
        "\n",
        "# Print np_height_m\n",
        "print(np_height_m)"
      ]
    },
    {
      "cell_type": "markdown",
      "metadata": {
        "id": "GxUogdYZq8Po"
      },
      "source": [
        "- BMI=weight(kg)/(height (in m)**2)"
      ]
    },
    {
      "cell_type": "code",
      "execution_count": 8,
      "metadata": {
        "collapsed": true,
        "colab": {
          "base_uri": "https://localhost:8080/"
        },
        "id": "ZQcoEqmVq8Pp",
        "outputId": "baf671c0-1b8f-4cc8-bf7e-42a796976d82"
      },
      "outputs": [
        {
          "output_type": "stream",
          "name": "stdout",
          "text": [
            "[50.94975517 60.85665201 62.78954524 ... 56.48906288 52.35571681\n",
            " 56.71813303]\n"
          ]
        }
      ],
      "source": [
        "# Calculate the BMI: bmi\n",
        "bmi = np_weight_kg / (np_height_m**2)\n",
        "\n",
        "# Print out bmi\n",
        "print(bmi)"
      ]
    },
    {
      "cell_type": "markdown",
      "metadata": {
        "id": "heMVx2BQq8Pp"
      },
      "source": [
        "Create a boolean Numpy array: the element of the array should be True if the corresponding baseball player's BMI is below 21. You can use the < operator for this. Name the array light.\n",
        "Print the array light.\n",
        "Print out a Numpy array with the BMIs of all baseball players whose BMI is below 21. Use light inside square brackets to do a selection on the bmi array.\n"
      ]
    },
    {
      "cell_type": "code",
      "execution_count": 9,
      "metadata": {
        "collapsed": true,
        "colab": {
          "base_uri": "https://localhost:8080/"
        },
        "id": "S3qxzF6gq8Pp",
        "outputId": "6824adb7-7768-4348-8394-b250b9cb08e2"
      },
      "outputs": [
        {
          "output_type": "stream",
          "name": "stdout",
          "text": [
            "[False False False ... False False False]\n",
            "[]\n"
          ]
        }
      ],
      "source": [
        "light = (bmi < 21)\n",
        "print(light)\n",
        "\n",
        "print(bmi[light])"
      ]
    },
    {
      "cell_type": "code",
      "execution_count": 10,
      "metadata": {
        "collapsed": true,
        "colab": {
          "base_uri": "https://localhost:8080/"
        },
        "id": "zW36R7qJq8Pp",
        "outputId": "9bf21213-a274-43fe-8a59-d4274dacdc51"
      },
      "outputs": [
        {
          "output_type": "stream",
          "name": "stdout",
          "text": [
            "<class 'numpy.ndarray'>\n",
            "(4, 2)\n"
          ]
        }
      ],
      "source": [
        "# Create baseball, a list of lists\n",
        "baseball = [[180, 78.4],\n",
        "            [215, 102.7],\n",
        "            [210, 98.5],\n",
        "            [188, 75.2]]\n",
        "\n",
        "# Import numpy\n",
        "import numpy as np\n",
        "\n",
        "# Create a 2D Numpy array from baseball: np_baseball\n",
        "np_baseball = np.array(baseball)\n",
        "\n",
        "# Print out the type of np_baseball\n",
        "print(type(np_baseball))\n",
        "\n",
        "# Print out the shape of np_baseball\n",
        "print(np_baseball.shape)"
      ]
    },
    {
      "cell_type": "code",
      "execution_count": 11,
      "metadata": {
        "collapsed": true,
        "colab": {
          "base_uri": "https://localhost:8080/"
        },
        "id": "VObAeumJq8Pq",
        "outputId": "53112cb1-3bd6-451c-ceb1-a7f9c10d7d30"
      },
      "outputs": [
        {
          "output_type": "stream",
          "name": "stdout",
          "text": [
            "(2, 1034)\n"
          ]
        }
      ],
      "source": [
        "# Create a 2D Numpy array named np_baseball from the lists of weight and height\n",
        "np_baseball = np.array([height,weight])\n",
        "\n",
        "# Print out the shape of np_baseball\n",
        "print(np_baseball.shape)"
      ]
    },
    {
      "cell_type": "markdown",
      "metadata": {
        "id": "biupogPSq8Pq"
      },
      "source": [
        "- If you want to convert the units of height and weight. As a first step, create a Numpy array with two values: 0.0254, 0.453592. Name this array conversion.\n",
        "Multiply np_baseball with conversion and print out the result."
      ]
    },
    {
      "cell_type": "code",
      "execution_count": 12,
      "metadata": {
        "colab": {
          "base_uri": "https://localhost:8080/"
        },
        "id": "_mIximtCq8Pq",
        "outputId": "7d9cb035-e617-44d5-852a-03aadfd01230"
      },
      "outputs": [
        {
          "output_type": "stream",
          "name": "stdout",
          "text": [
            "[[ 1.8796   1.8796   1.8288  ...  1.905    1.905    1.8542 ]\n",
            " [81.64656 97.52228 95.25432 ... 92.98636 86.18248 88.45044]]\n"
          ]
        }
      ],
      "source": [
        "conversion = np.array([ 0.0254, 0.453592])\n",
        "print(np_baseball * conversion.reshape(-1,1))"
      ]
    },
    {
      "cell_type": "markdown",
      "metadata": {
        "id": "DYWZg_eJq8Pq"
      },
      "source": [
        "### Now it's time for some statistics"
      ]
    },
    {
      "cell_type": "code",
      "execution_count": 13,
      "metadata": {
        "colab": {
          "base_uri": "https://localhost:8080/"
        },
        "id": "uqtnrUNLq8Pq",
        "outputId": "129774ae-5194-480c-d32a-160972ce228a"
      },
      "outputs": [
        {
          "output_type": "stream",
          "name": "stdout",
          "text": [
            "73.6972920696325\n",
            "74.0\n",
            "2.304703041620148\n",
            "Correalation:  [[1.         0.51603124]\n",
            " [0.51603124 1.        ]]\n"
          ]
        }
      ],
      "source": [
        "# Print out the mean of np_height\n",
        "mean = np.mean(np_height)\n",
        "\n",
        "# Print out the median of np_height\n",
        "print(mean)\n",
        "\n",
        "# Print median height. Replace 'None'\n",
        "print(np.median(np_height))\n",
        "\n",
        "# Print out the standard deviation on height. Replace 'None'\n",
        "print(np.std(np_height))\n",
        "\n",
        "# Print out correlation between first and second column. Replace 'None'\n",
        "\n",
        "np_weight_kg[np.isnan(np_weight_kg)] = 0\n",
        "\n",
        "print(\"Correalation: \" , np.corrcoef(np_height , np_weight_kg) )"
      ]
    },
    {
      "cell_type": "code",
      "execution_count": 14,
      "metadata": {
        "collapsed": true,
        "id": "c1Har2jCq8Pq",
        "colab": {
          "base_uri": "https://localhost:8080/"
        },
        "outputId": "566705d6-7f1e-41f3-c6f5-79e64c0f032e"
      },
      "outputs": [
        {
          "output_type": "execute_result",
          "data": {
            "text/plain": [
              "(array([928]),)"
            ]
          },
          "metadata": {},
          "execution_count": 14
        }
      ],
      "source": [
        "# Print the index of player with maximum height\n",
        "np.where(np_height == max(height))"
      ]
    },
    {
      "cell_type": "code",
      "execution_count": 15,
      "metadata": {
        "collapsed": true,
        "id": "UQvlIKzuq8Pr",
        "colab": {
          "base_uri": "https://localhost:8080/"
        },
        "outputId": "47940b0f-5b3c-46c6-9a55-37280dfd85e0"
      },
      "outputs": [
        {
          "output_type": "execute_result",
          "data": {
            "text/plain": [
              "array([6, 6, 6, ..., 6, 6, 6])"
            ]
          },
          "metadata": {},
          "execution_count": 15
        }
      ],
      "source": [
        "#Replace all the players height greater than 6 Feet with 6 Feet\n",
        "np_height[np_height > 6] = 6\n",
        "np_height"
      ]
    },
    {
      "cell_type": "code",
      "execution_count": 16,
      "metadata": {
        "collapsed": true,
        "id": "rY_p8hATq8Pr",
        "colab": {
          "base_uri": "https://localhost:8080/"
        },
        "outputId": "d5c73d89-f307-429f-c6da-62e60df76e9d"
      },
      "outputs": [
        {
          "output_type": "execute_result",
          "data": {
            "text/plain": [
              "1033"
            ]
          },
          "metadata": {},
          "execution_count": 16
        }
      ],
      "source": [
        "#Count number of players with weight greater than 75 kg..\n",
        "len(np_weight_kg[np_weight_kg > 75])"
      ]
    },
    {
      "cell_type": "code",
      "execution_count": 17,
      "metadata": {
        "collapsed": true,
        "id": "jQ5a69AZq8Pr",
        "colab": {
          "base_uri": "https://localhost:8080/"
        },
        "outputId": "5bbea108-317c-4b0e-f365-624c77cf4561"
      },
      "outputs": [
        {
          "output_type": "stream",
          "name": "stdout",
          "text": [
            "[6 6 6 ... 6 6 6]\n",
            "[   0  680  681 ...  353  323 1033]\n"
          ]
        }
      ],
      "source": [
        "# Sort the height, and get the sorting index as well\n",
        "print(np.sort(np_height))\n",
        "print(np.argsort(np_height))"
      ]
    },
    {
      "cell_type": "code",
      "execution_count": 18,
      "metadata": {
        "collapsed": true,
        "id": "b2yvdWTSq8Pr",
        "colab": {
          "base_uri": "https://localhost:8080/"
        },
        "outputId": "ac7ed4db-e4d0-42e1-c373-aae0453538b2"
      },
      "outputs": [
        {
          "output_type": "stream",
          "name": "stdout",
          "text": [
            "(2, 1034)\n",
            "(1034, 2)\n"
          ]
        }
      ],
      "source": [
        "#Reshape the 2 x Number of Players array to Number of Players x 2\n",
        "np_baseball = np.array([height,weight])\n",
        "print(np_baseball.shape)\n",
        "print(np_baseball.reshape(-1,2).shape)"
      ]
    },
    {
      "cell_type": "code",
      "execution_count": 19,
      "metadata": {
        "collapsed": true,
        "id": "8ranXaGKq8Pr",
        "colab": {
          "base_uri": "https://localhost:8080/",
          "height": 295
        },
        "outputId": "d16cc02f-e613-403a-c0d8-a473ffc9cbf5"
      },
      "outputs": [
        {
          "output_type": "display_data",
          "data": {
            "text/plain": [
              "<Figure size 432x288 with 1 Axes>"
            ],
            "image/png": "[encoded data removed]"
          },
          "metadata": {
            "needs_background": "light"
          }
        }
      ],
      "source": [
        "#Generate Scatter Plot, See plt.scatter, use height as one axis and weight as second axis\n",
        "import matplotlib.pyplot as plt\n",
        "\n",
        "plt.scatter(height,weight)\n",
        "\n",
        "plt.xlabel(\"Height\")\n",
        "plt.ylabel(\"Weight\")\n",
        "\n",
        "plt.title(\"height X Weight\")\n",
        "\n",
        "plt.show()"
      ]
    },
    {
      "cell_type": "code",
      "execution_count": 20,
      "metadata": {
        "collapsed": true,
        "id": "jzZD1I1Gq8Pr"
      },
      "outputs": [],
      "source": [
        "#Now choose a random player, and project player height and weight to this random player, you can plot\n",
        "# the vector using plt.arrow function"
      ]
    },
    {
      "cell_type": "markdown",
      "metadata": {
        "id": "zOjr3YRlq8Ps"
      },
      "source": [
        "#### Advanced Operations"
      ]
    },
    {
      "cell_type": "markdown",
      "metadata": {
        "id": "rIc_sBeNq8Ps"
      },
      "source": [
        "1. Construct an array from the list: [1,2,3]\n",
        "2. Cast it into floats\n",
        "3. Create an array of int ranging from 0-10 \n",
        "4. Create an array containing 7 evenly spaced numbers between 0 and 23\n",
        "5. Create an array with shape (2,5,1,5,2,1) containing only the number 5\n",
        "6. Eliminate all length-1 dimensions. See the function squeeze.\n",
        "7. Reshape the resulting array from shape (2,5,3,2) to only 2D\n",
        "8. Calculate the mean, std, var, max, min, of an array with shape (3,3,12,3) containing floats drawn\n",
        "from a normal distribution with mean 21 and sigma 4.5. see the np.random.normal.\n",
        "9. Do the same but not on all elements but only on the 2nd dimension. \n",
        "10. Transform the array such that it is only 1d. See the function Flatten or ravel\n",
        "11. Remove all values smaller 15 and larger 26.\n",
        "12. Clip all values smaller 15 and larger 26 to NaN. See the function Clip\n",
        "13. Calculate the sum of the resulting array. It should not be NaN!.\n",
        "14. Convert the NaN’s to 0.0. See Where\n",
        "15. Save the array and load it again."
      ]
    },
    {
      "cell_type": "markdown",
      "source": [
        "##### Construct an array from the list: [1,2,3]"
      ],
      "metadata": {
        "id": "vHGvx64vi0AT"
      }
    },
    {
      "cell_type": "code",
      "execution_count": 21,
      "metadata": {
        "id": "cIzkSNXAq8Ps",
        "colab": {
          "base_uri": "https://localhost:8080/"
        },
        "outputId": "f119b8da-cb13-4806-f961-1845f3adde8f"
      },
      "outputs": [
        {
          "output_type": "execute_result",
          "data": {
            "text/plain": [
              "array([1, 2, 3])"
            ]
          },
          "metadata": {},
          "execution_count": 21
        }
      ],
      "source": [
        "array = np.array([1,2,3])\n",
        "array"
      ]
    },
    {
      "cell_type": "markdown",
      "source": [
        "##### Cast it into floats"
      ],
      "metadata": {
        "id": "f5w1tqaAjEpy"
      }
    },
    {
      "cell_type": "code",
      "source": [
        "array = array.astype(float)\n",
        "array"
      ],
      "metadata": {
        "colab": {
          "base_uri": "https://localhost:8080/"
        },
        "id": "UMWTIt69iSon",
        "outputId": "03beab3a-da65-4127-f746-651a0d87b529"
      },
      "execution_count": 22,
      "outputs": [
        {
          "output_type": "execute_result",
          "data": {
            "text/plain": [
              "array([1., 2., 3.])"
            ]
          },
          "metadata": {},
          "execution_count": 22
        }
      ]
    },
    {
      "cell_type": "markdown",
      "source": [
        "##### Create an array of int ranging from 0-10"
      ],
      "metadata": {
        "id": "rvNoL4dxjHXj"
      }
    },
    {
      "cell_type": "code",
      "source": [
        "array = np.arange(1,11)\n",
        "array"
      ],
      "metadata": {
        "colab": {
          "base_uri": "https://localhost:8080/"
        },
        "id": "21QTduptifD2",
        "outputId": "5008edcc-a557-4287-c8d2-81a73a0e6c9c"
      },
      "execution_count": 23,
      "outputs": [
        {
          "output_type": "execute_result",
          "data": {
            "text/plain": [
              "array([ 1,  2,  3,  4,  5,  6,  7,  8,  9, 10])"
            ]
          },
          "metadata": {},
          "execution_count": 23
        }
      ]
    },
    {
      "cell_type": "markdown",
      "source": [
        "##### Create an array containing 7 evenly spaced numbers between 0 and 23"
      ],
      "metadata": {
        "id": "bb2mNwifjMNa"
      }
    },
    {
      "cell_type": "code",
      "source": [
        "array = np.linspace(0,23,7)\n",
        "array"
      ],
      "metadata": {
        "colab": {
          "base_uri": "https://localhost:8080/"
        },
        "id": "6rXtLtCrjA6W",
        "outputId": "6bdc2d36-2b10-4d78-d6a1-e9ac0277d2b9"
      },
      "execution_count": 24,
      "outputs": [
        {
          "output_type": "execute_result",
          "data": {
            "text/plain": [
              "array([ 0.        ,  3.83333333,  7.66666667, 11.5       , 15.33333333,\n",
              "       19.16666667, 23.        ])"
            ]
          },
          "metadata": {},
          "execution_count": 24
        }
      ]
    },
    {
      "cell_type": "markdown",
      "source": [
        "##### Create an array with shape (2,5,1,5,2,1) containing only the number 5"
      ],
      "metadata": {
        "id": "hz_-kHMwjhrq"
      }
    },
    {
      "cell_type": "code",
      "source": [
        "array = np.full(100,5)\n",
        "\n",
        "array = array.reshape(2,5,1,5,2,1)\n",
        "array.shape"
      ],
      "metadata": {
        "colab": {
          "base_uri": "https://localhost:8080/"
        },
        "id": "wC_Y2LwEjVeo",
        "outputId": "88fc929f-317d-489a-f7d7-b29268a69a57"
      },
      "execution_count": 25,
      "outputs": [
        {
          "output_type": "execute_result",
          "data": {
            "text/plain": [
              "(2, 5, 1, 5, 2, 1)"
            ]
          },
          "metadata": {},
          "execution_count": 25
        }
      ]
    },
    {
      "cell_type": "markdown",
      "source": [
        "##### Eliminate all length-1 dimensions. See the function squeeze."
      ],
      "metadata": {
        "id": "rTPo1Xibm-9x"
      }
    },
    {
      "cell_type": "code",
      "source": [
        "squeezed = np.squeeze(array)\n",
        "squeezed.shape"
      ],
      "metadata": {
        "colab": {
          "base_uri": "https://localhost:8080/"
        },
        "id": "oiILsQCslXvl",
        "outputId": "8401b9aa-1b84-44e2-e3f8-baff1ea56e72"
      },
      "execution_count": 26,
      "outputs": [
        {
          "output_type": "execute_result",
          "data": {
            "text/plain": [
              "(2, 5, 5, 2)"
            ]
          },
          "metadata": {},
          "execution_count": 26
        }
      ]
    },
    {
      "cell_type": "markdown",
      "source": [
        "##### Reshape the resulting array from shape (2,5,3,2) to only 2D"
      ],
      "metadata": {
        "id": "CEmJHZmQnRFJ"
      }
    },
    {
      "cell_type": "code",
      "source": [
        "reshaped = array.reshape(-1,2)\n",
        "reshaped.shape"
      ],
      "metadata": {
        "colab": {
          "base_uri": "https://localhost:8080/"
        },
        "id": "ajEmNr3ZnKXd",
        "outputId": "0780b529-aefd-4e0d-c4ee-1631165c39ea"
      },
      "execution_count": 27,
      "outputs": [
        {
          "output_type": "execute_result",
          "data": {
            "text/plain": [
              "(50, 2)"
            ]
          },
          "metadata": {},
          "execution_count": 27
        }
      ]
    },
    {
      "cell_type": "markdown",
      "source": [
        "##### Calculate the mean, std, var, max, min, of an array with shape (3,3,12,3) containing floats drawn from a normal distribution with mean 21 and sigma 4.5. see the np.random.normal."
      ],
      "metadata": {
        "id": "eWXl5eBioJIY"
      }
    },
    {
      "cell_type": "code",
      "source": [
        "array = np.random.normal(21,4.5,[3,3,12,3])\n",
        "\n",
        "print(\"Mean : \" , np.mean(array))\n",
        "print(\"Standard Deviation : \" , np.std(array))\n",
        "print(\"Variance : \" , np.var(array))\n",
        "print(\"Maximum : \" , np.max(array))\n",
        "print(\"Minimum : \" , np.min(array))"
      ],
      "metadata": {
        "colab": {
          "base_uri": "https://localhost:8080/"
        },
        "id": "xSMKI8z3ndUs",
        "outputId": "988f7b60-b9fe-494f-8f8c-82ddffbb4f2a"
      },
      "execution_count": 28,
      "outputs": [
        {
          "output_type": "stream",
          "name": "stdout",
          "text": [
            "Mean :  20.594958721718392\n",
            "Standard Deviation :  4.5270767874140425\n",
            "Variance :  20.494424239143047\n",
            "Maximum :  33.77136905116808\n",
            "Minimum :  8.78687548745477\n"
          ]
        }
      ]
    },
    {
      "cell_type": "markdown",
      "source": [
        "##### Do the same but not on all elements but only on the 2nd dimension."
      ],
      "metadata": {
        "id": "5yCydht3rDag"
      }
    },
    {
      "cell_type": "code",
      "source": [],
      "metadata": {
        "id": "VK21SVisn3Ld"
      },
      "execution_count": 28,
      "outputs": []
    },
    {
      "cell_type": "markdown",
      "source": [
        "##### Transform the array such that it is only 1d. See the function Flatten or ravel"
      ],
      "metadata": {
        "id": "_lvPhvKXrUf3"
      }
    },
    {
      "cell_type": "code",
      "source": [
        "print(array.shape)\n",
        "flattened = array.flatten()\n",
        "print(flattened.shape)"
      ],
      "metadata": {
        "colab": {
          "base_uri": "https://localhost:8080/"
        },
        "id": "oQPacd9CrI1b",
        "outputId": "a728a347-a0a1-4a8e-f278-33975e532964"
      },
      "execution_count": 29,
      "outputs": [
        {
          "output_type": "stream",
          "name": "stdout",
          "text": [
            "(3, 3, 12, 3)\n",
            "(324,)\n"
          ]
        }
      ]
    },
    {
      "cell_type": "markdown",
      "source": [
        "##### Remove all values smaller 15 and larger 26."
      ],
      "metadata": {
        "id": "W7Gt4CTnrqcH"
      }
    },
    {
      "cell_type": "code",
      "source": [
        "removing = array[np.logical_and(array >= 15, array <= 26)]\n",
        "len(removing)"
      ],
      "metadata": {
        "colab": {
          "base_uri": "https://localhost:8080/"
        },
        "id": "5Pd2lKWermG9",
        "outputId": "7d15a082-4647-4729-d639-7eea03fe2afc"
      },
      "execution_count": 30,
      "outputs": [
        {
          "output_type": "execute_result",
          "data": {
            "text/plain": [
              "247"
            ]
          },
          "metadata": {},
          "execution_count": 30
        }
      ]
    },
    {
      "cell_type": "markdown",
      "source": [
        "##### Clip all values smaller 15 and larger 26 to NaN. See the function Clip"
      ],
      "metadata": {
        "id": "XpOpdKDlsCGh"
      }
    },
    {
      "cell_type": "code",
      "source": [
        "array = np.random.randint(1,30,50)\n",
        "\n",
        "clip = np.clip(array , 14 , 27).astype('float')\n",
        "clip[np.logical_or(clip == 14, clip == 27)] = np.nan\n",
        "clip"
      ],
      "metadata": {
        "colab": {
          "base_uri": "https://localhost:8080/"
        },
        "id": "OEUffZvHr2Sb",
        "outputId": "e18608f2-fe9e-4868-a6f0-6e678673ddec"
      },
      "execution_count": 31,
      "outputs": [
        {
          "output_type": "execute_result",
          "data": {
            "text/plain": [
              "array([nan, 22., 19., nan, nan, nan, 16., nan, 19., nan, 20., nan, nan,\n",
              "       24., 19., 26., 17., nan, nan, 21., nan, 20., nan, nan, nan, 21.,\n",
              "       nan, 24., nan, nan, nan, 17., 17., 25., 19., nan, nan, nan, nan,\n",
              "       16., 24., 15., nan, nan, nan, 16., nan, 25., 21., nan])"
            ]
          },
          "metadata": {},
          "execution_count": 31
        }
      ]
    },
    {
      "cell_type": "markdown",
      "source": [
        "##### Calculate the sum of the resulting array. It should not be NaN!."
      ],
      "metadata": {
        "id": "vS5DenXQ6JDD"
      }
    },
    {
      "cell_type": "code",
      "source": [
        "np.nansum(clip)"
      ],
      "metadata": {
        "colab": {
          "base_uri": "https://localhost:8080/"
        },
        "id": "kSPdyhEWz5OR",
        "outputId": "507fdc24-09e8-46fe-feca-10bc8f6538c8"
      },
      "execution_count": 32,
      "outputs": [
        {
          "output_type": "execute_result",
          "data": {
            "text/plain": [
              "463.0"
            ]
          },
          "metadata": {},
          "execution_count": 32
        }
      ]
    },
    {
      "cell_type": "markdown",
      "source": [
        "##### Convert the NaN’s to 0.0. See Where"
      ],
      "metadata": {
        "id": "K5idwYvf62wD"
      }
    },
    {
      "cell_type": "code",
      "source": [
        "print(clip)\n",
        "clip[np.isnan(clip)] = 0.0\n",
        "print(clip)"
      ],
      "metadata": {
        "colab": {
          "base_uri": "https://localhost:8080/"
        },
        "id": "4nPIrPOH6VVf",
        "outputId": "f716191a-21ef-4071-f686-e015fe39555b"
      },
      "execution_count": 33,
      "outputs": [
        {
          "output_type": "stream",
          "name": "stdout",
          "text": [
            "[nan 22. 19. nan nan nan 16. nan 19. nan 20. nan nan 24. 19. 26. 17. nan\n",
            " nan 21. nan 20. nan nan nan 21. nan 24. nan nan nan 17. 17. 25. 19. nan\n",
            " nan nan nan 16. 24. 15. nan nan nan 16. nan 25. 21. nan]\n",
            "[ 0. 22. 19.  0.  0.  0. 16.  0. 19.  0. 20.  0.  0. 24. 19. 26. 17.  0.\n",
            "  0. 21.  0. 20.  0.  0.  0. 21.  0. 24.  0.  0.  0. 17. 17. 25. 19.  0.\n",
            "  0.  0.  0. 16. 24. 15.  0.  0.  0. 16.  0. 25. 21.  0.]\n"
          ]
        }
      ]
    },
    {
      "cell_type": "markdown",
      "source": [
        "##### Save the array and load it again."
      ],
      "metadata": {
        "id": "EJCPMHM47K8q"
      }
    },
    {
      "cell_type": "code",
      "source": [
        "np.save('clip' , clip)"
      ],
      "metadata": {
        "id": "g81IFQS769Uu"
      },
      "execution_count": 34,
      "outputs": []
    },
    {
      "cell_type": "code",
      "source": [
        "np.load('clip.npy')"
      ],
      "metadata": {
        "colab": {
          "base_uri": "https://localhost:8080/"
        },
        "id": "uPfBE__w7Q2T",
        "outputId": "ee715bd5-2591-40c6-9a0c-91409a33a350"
      },
      "execution_count": 35,
      "outputs": [
        {
          "output_type": "execute_result",
          "data": {
            "text/plain": [
              "array([ 0., 22., 19.,  0.,  0.,  0., 16.,  0., 19.,  0., 20.,  0.,  0.,\n",
              "       24., 19., 26., 17.,  0.,  0., 21.,  0., 20.,  0.,  0.,  0., 21.,\n",
              "        0., 24.,  0.,  0.,  0., 17., 17., 25., 19.,  0.,  0.,  0.,  0.,\n",
              "       16., 24., 15.,  0.,  0.,  0., 16.,  0., 25., 21.,  0.])"
            ]
          },
          "metadata": {},
          "execution_count": 35
        }
      ]
    }
  ],
  "metadata": {
    "kernelspec": {
      "display_name": "Python [Root]",
      "language": "python",
      "name": "Python [Root]"
    },
    "language_info": {
      "codemirror_mode": {
        "name": "ipython",
        "version": 2
      },
      "file_extension": ".py",
      "mimetype": "text/x-python",
      "name": "python",
      "nbconvert_exporter": "python",
      "pygments_lexer": "ipython2",
      "version": "2.7.12"
    },
    "colab": {
      "provenance": [],
      "collapsed_sections": []
    }
  },
  "nbformat": 4,
  "nbformat_minor": 0
}