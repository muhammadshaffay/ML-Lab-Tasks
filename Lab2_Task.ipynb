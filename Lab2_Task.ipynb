{
 "cells": [
  {
   "cell_type": "code",
   "execution_count": null,
   "metadata": {
    "id": "2rs12gNazNGj"
   },
   "outputs": [],
   "source": [
    "#Install Docker Desktop"
   ]
  },
  {
   "cell_type": "markdown",
   "metadata": {
    "id": "YYP2MJUr31y0"
   },
   "source": [
    "Use enumerate in a scenario of your own choice"
   ]
  },
  {
   "cell_type": "code",
   "execution_count": 25,
   "metadata": {
    "id": "vN0FKjKqmHbE"
   },
   "outputs": [],
   "source": [
    "import matplotlib.pyplot as plt\n",
    "import numpy as np\n",
    "import pandas as pd"
   ]
  },
  {
   "cell_type": "code",
   "execution_count": 2,
   "metadata": {
    "id": "OxwXiFHzmbT9"
   },
   "outputs": [
    {
     "name": "stdout",
     "output_type": "stream",
     "text": [
      "1 1\n",
      "2 2\n",
      "3 3\n",
      "4 4\n"
     ]
    }
   ],
   "source": [
    "list = [1 , 2 , 3 ,4]\n",
    "\n",
    "for i , value in enumerate(list , 1): # Pro method\n",
    "  print(i , value)"
   ]
  },
  {
   "cell_type": "markdown",
   "metadata": {
    "id": "n1V7AOom3LpG"
   },
   "source": [
    "In any environment create a Python class with a constructor and functions\n",
    "of all access specifiers each.\n",
    "\n",
    "Inherit a subclass from the above created class, initiate its\n",
    "constructor that also initiates the parent class’ constructor.\n",
    "\n",
    "Add a function in this subclass\n",
    "\n",
    "Create an object of parent class and call its functions\n",
    "Create an object of child class and try accessing child functions as well as\n",
    "parent class functions."
   ]
  },
  {
   "cell_type": "code",
   "execution_count": 3,
   "metadata": {
    "id": "CFxY-iMEolW9"
   },
   "outputs": [],
   "source": [
    "class University:\n",
    "\n",
    "    def __init__(self , name , location):\n",
    "\n",
    "        __new_campuses = 0 # Private\n",
    "        _old_campuses = 4 # Protected\n",
    "        campuses = 4 # Public\n",
    "\n",
    "        self.uname = name\n",
    "        self.location = location\n",
    "\n",
    "    def display(self):\n",
    "\n",
    "        print(\"Name is :\" , self.uname + \" Location is :\" , self.location)\n",
    "        print(f\"Name is {self.uname} and location is {self.location}\") # Formating"
   ]
  },
  {
   "cell_type": "code",
   "execution_count": 4,
   "metadata": {
    "id": "XnfZpjq_p6S8"
   },
   "outputs": [
    {
     "name": "stdout",
     "output_type": "stream",
     "text": [
      "Name is : FAST Location is : Islam-abad\n",
      "Name is FAST and location is Islam-abad\n"
     ]
    }
   ],
   "source": [
    "object = University(\"FAST\" , \"Islam-abad\")\n",
    "object.display()"
   ]
  },
  {
   "cell_type": "code",
   "execution_count": 5,
   "metadata": {
    "id": "Nvn-yESfqZLf"
   },
   "outputs": [
    {
     "name": "stdout",
     "output_type": "stream",
     "text": [
      "6\n"
     ]
    }
   ],
   "source": [
    "object.campuses = 6\n",
    "print(object.campuses)"
   ]
  },
  {
   "cell_type": "code",
   "execution_count": 6,
   "metadata": {
    "id": "roWJP4vmriiL"
   },
   "outputs": [],
   "source": [
    "class Department(University): # Parent Child\n",
    "\n",
    "    def __init__(self , name , program , u_name , u_location):\n",
    "\n",
    "        super().__init__(u_name , u_location) # calls parent class i.e University\n",
    "        self.name = name\n",
    "        self.program = program\n",
    "\n",
    "    def display(self):\n",
    "        super().display()\n",
    "        print(f\"The name is {self.name} and programs are {self.program}\")"
   ]
  },
  {
   "cell_type": "code",
   "execution_count": 7,
   "metadata": {
    "id": "mz78i4IXuavg"
   },
   "outputs": [
    {
     "name": "stdout",
     "output_type": "stream",
     "text": [
      "Name is : FAST Location is : ISB\n",
      "Name is FAST and location is ISB\n",
      "The name is AI and programs are 5\n"
     ]
    }
   ],
   "source": [
    "object_new = Department(\"AI\" , 5 , \"FAST\" , \"ISB\")\n",
    "object_new.display()"
   ]
  },
  {
   "cell_type": "markdown",
   "metadata": {
    "id": "AR8Fz4kE3--5"
   },
   "source": [
    "Create a virtual environment using conda"
   ]
  },
  {
   "cell_type": "code",
   "execution_count": 8,
   "metadata": {
    "id": "h5qIN7yVuw4-"
   },
   "outputs": [],
   "source": [
    "# Virtual Enviromnet : \n",
    "# Conda : \n",
    "\n",
    "# enviromentname is virtual enviroment\n",
    "# conda install pandas\n",
    "\n",
    "# Goto terminal\n",
    "# conda\n",
    "# conda create -n enviromentname python=3.6\n",
    "# activate enviromentname\n",
    "# conda install pandas\n",
    "# cd Desktop\n",
    "# python filename.py\n",
    "# conda deactivate"
   ]
  },
  {
   "cell_type": "markdown",
   "metadata": {
    "id": "x9-mlyir4-y4"
   },
   "source": [
    "Given a list of strings, return the count of the number of strings\n",
    "where the string length is 2 or more and the first and last chars of the\n",
    "string are the same."
   ]
  },
  {
   "cell_type": "code",
   "execution_count": 9,
   "metadata": {
    "id": "RmI1Fn2m4Ctl"
   },
   "outputs": [],
   "source": [
    "def function1(strings):\n",
    "\n",
    "    counter = 0\n",
    "    \n",
    "    for i in strings:\n",
    "        boolean = False\n",
    "\n",
    "        if i[0] == i[-1]:\n",
    "            boolean = True\n",
    "\n",
    "        if (boolean == True):\n",
    "            sentence = i.split(' ')\n",
    "            if len(sentence) >= 2:\n",
    "                counter += 1\n",
    "\n",
    "    return counter "
   ]
  },
  {
   "cell_type": "code",
   "execution_count": 10,
   "metadata": {
    "id": "UYUP1a8-5qop"
   },
   "outputs": [
    {
     "data": {
      "text/plain": [
       "1"
      ]
     },
     "execution_count": 10,
     "metadata": {},
     "output_type": "execute_result"
    }
   ],
   "source": [
    "strings = ['My name is Shaffay' , 'I study at FAST NUCES', 'Yes!' , 'Islamabad is our Capital', 'I am from DELHI']\n",
    "function1(strings)"
   ]
  },
  {
   "cell_type": "markdown",
   "metadata": {
    "id": "an8N1Khy65Y1"
   },
   "source": [
    "Given a list of strings, return a list with the strings in sorted order,\n",
    "except group all the strings that begin with &#39;x&#39; first."
   ]
  },
  {
   "cell_type": "code",
   "execution_count": 11,
   "metadata": {
    "id": "PQJOKsD86JRP"
   },
   "outputs": [],
   "source": [
    "def function2(strings):\n",
    "\n",
    "    non_x = []\n",
    "    x = []\n",
    "\n",
    "    for i in strings:\n",
    "        if i[0] != 'x':\n",
    "             non_x.append(i)\n",
    "\n",
    "        else:\n",
    "             x.append(i)\n",
    "\n",
    "    non_x.sort()\n",
    "\n",
    "    all = non_x + x\n",
    "\n",
    "    return all"
   ]
  },
  {
   "cell_type": "code",
   "execution_count": 12,
   "metadata": {
    "id": "kQObg5UgGFeI"
   },
   "outputs": [
    {
     "data": {
      "text/plain": [
       "['I am from DELHI',\n",
       " 'My name is Shaffay',\n",
       " 'Yes!',\n",
       " 'xI study at FAST NUCES',\n",
       " 'xIslamabad is our Capital']"
      ]
     },
     "execution_count": 12,
     "metadata": {},
     "output_type": "execute_result"
    }
   ],
   "source": [
    "strings = ['My name is Shaffay' , 'xI study at FAST NUCES', 'Yes!' , 'xIslamabad is our Capital', 'I am from DELHI']\n",
    "function2(strings)"
   ]
  },
  {
   "cell_type": "markdown",
   "metadata": {
    "id": "n_wR9VnU_aQM"
   },
   "source": [
    "Given a list of non-empty tuples, return a list sorted in increasing\n",
    "order by the last element in each tuple."
   ]
  },
  {
   "cell_type": "code",
   "execution_count": 13,
   "metadata": {
    "id": "OHKi6wz-_clJ"
   },
   "outputs": [],
   "source": [
    "def function3(tuples): \n",
    "   \n",
    "    tuples.sort(key = lambda last: last[-1]) \n",
    "\n",
    "    return tuples "
   ]
  },
  {
   "cell_type": "code",
   "execution_count": 14,
   "metadata": {
    "id": "i7rHUh7UIanT"
   },
   "outputs": [
    {
     "data": {
      "text/plain": [
       "[(2, 1), (1, 2), (2, 3), (4, 4), (2, 5)]"
      ]
     },
     "execution_count": 14,
     "metadata": {},
     "output_type": "execute_result"
    }
   ],
   "source": [
    "tuples = [(2, 5), (1, 2), (4, 4), (2, 3), (2, 1)]\n",
    "function3(tuples) "
   ]
  },
  {
   "cell_type": "markdown",
   "metadata": {
    "id": "0S7d-cop8zHi"
   },
   "source": [
    "Given a list of numbers, return a list where all adjacent == elements\n",
    "have been reduced to a single element, so [1, 2, 2, 3] returns [1, 2, 3]."
   ]
  },
  {
   "cell_type": "code",
   "execution_count": 15,
   "metadata": {
    "id": "dDCcS5xY80EV"
   },
   "outputs": [],
   "source": [
    "def function4(list1):\n",
    "\n",
    "  new_list = []\n",
    "\n",
    "  for i in range(len(list1)):\n",
    "\n",
    "      if i != 0:\n",
    "          if list1[i] != list1[i - 1]:\n",
    "              new_list.append(list1[i])\n",
    "\n",
    "      else:\n",
    "          new_list.append(list1[i])\n",
    "\n",
    "  return new_list"
   ]
  },
  {
   "cell_type": "code",
   "execution_count": 16,
   "metadata": {
    "id": "lLcgau4I9N4K"
   },
   "outputs": [
    {
     "data": {
      "text/plain": [
       "[1, 2, 3, 4]"
      ]
     },
     "execution_count": 16,
     "metadata": {},
     "output_type": "execute_result"
    }
   ],
   "source": [
    "list1 = [1 , 2 , 2 , 3 , 4 , 4]\n",
    "function4(list1)"
   ]
  },
  {
   "cell_type": "markdown",
   "metadata": {
    "id": "QtE0pdI775SN"
   },
   "source": [
    "two lists sorted in increasing order, create and return a merged list of\n",
    "all the elements in sorted order"
   ]
  },
  {
   "cell_type": "code",
   "execution_count": 17,
   "metadata": {
    "id": "4lJwq8AH759Z"
   },
   "outputs": [],
   "source": [
    "def function5(list1 , list2):\n",
    "\n",
    "    for i in list2:\n",
    "        list1.append(i)\n",
    "\n",
    "    list1.sort()\n",
    "\n",
    "    return list1"
   ]
  },
  {
   "cell_type": "code",
   "execution_count": 18,
   "metadata": {
    "id": "azb5_FuK8if8"
   },
   "outputs": [
    {
     "data": {
      "text/plain": [
       "[1, 2, 3, 4, 5, 6, 7, 8]"
      ]
     },
     "execution_count": 18,
     "metadata": {},
     "output_type": "execute_result"
    }
   ],
   "source": [
    "list1 = [1 , 3 , 5 , 7]\n",
    "list2 = [2 , 4 , 6 , 8]\n",
    "function5(list1 , list2)"
   ]
  },
  {
   "cell_type": "markdown",
   "metadata": {
    "id": "4QYcdgvkJAzR"
   },
   "source": [
    "Find the rows in the dataset"
   ]
  },
  {
   "cell_type": "code",
   "execution_count": 19,
   "metadata": {
    "id": "_V5Puc1A8syK"
   },
   "outputs": [
    {
     "name": "stdout",
     "output_type": "stream",
     "text": [
      "rows in Dataset are :  193\n"
     ]
    }
   ],
   "source": [
    "data = pd.read_csv('drinks.csv')\n",
    "print(\"rows in Dataset are : \" , len(data))"
   ]
  },
  {
   "cell_type": "markdown",
   "metadata": {
    "id": "HUqQ2jjNJpx0"
   },
   "source": [
    "Drop na values"
   ]
  },
  {
   "cell_type": "code",
   "execution_count": 20,
   "metadata": {
    "id": "Fk7bVKFuJIDQ"
   },
   "outputs": [
    {
     "data": {
      "text/html": [
       "<div>\n",
       "<style scoped>\n",
       "    .dataframe tbody tr th:only-of-type {\n",
       "        vertical-align: middle;\n",
       "    }\n",
       "\n",
       "    .dataframe tbody tr th {\n",
       "        vertical-align: top;\n",
       "    }\n",
       "\n",
       "    .dataframe thead th {\n",
       "        text-align: right;\n",
       "    }\n",
       "</style>\n",
       "<table border=\"1\" class=\"dataframe\">\n",
       "  <thead>\n",
       "    <tr style=\"text-align: right;\">\n",
       "      <th></th>\n",
       "      <th>country</th>\n",
       "      <th>beer_servings</th>\n",
       "      <th>spirit_servings</th>\n",
       "      <th>wine_servings</th>\n",
       "      <th>total_litres_of_pure_alcohol</th>\n",
       "      <th>continent</th>\n",
       "    </tr>\n",
       "  </thead>\n",
       "  <tbody>\n",
       "    <tr>\n",
       "      <th>0</th>\n",
       "      <td>Afghanistan</td>\n",
       "      <td>0</td>\n",
       "      <td>0</td>\n",
       "      <td>0</td>\n",
       "      <td>0.0</td>\n",
       "      <td>AS</td>\n",
       "    </tr>\n",
       "    <tr>\n",
       "      <th>1</th>\n",
       "      <td>Albania</td>\n",
       "      <td>89</td>\n",
       "      <td>132</td>\n",
       "      <td>54</td>\n",
       "      <td>4.9</td>\n",
       "      <td>EU</td>\n",
       "    </tr>\n",
       "    <tr>\n",
       "      <th>2</th>\n",
       "      <td>Algeria</td>\n",
       "      <td>25</td>\n",
       "      <td>0</td>\n",
       "      <td>14</td>\n",
       "      <td>0.7</td>\n",
       "      <td>AF</td>\n",
       "    </tr>\n",
       "    <tr>\n",
       "      <th>3</th>\n",
       "      <td>Andorra</td>\n",
       "      <td>245</td>\n",
       "      <td>138</td>\n",
       "      <td>312</td>\n",
       "      <td>12.4</td>\n",
       "      <td>EU</td>\n",
       "    </tr>\n",
       "    <tr>\n",
       "      <th>4</th>\n",
       "      <td>Angola</td>\n",
       "      <td>217</td>\n",
       "      <td>57</td>\n",
       "      <td>45</td>\n",
       "      <td>5.9</td>\n",
       "      <td>AF</td>\n",
       "    </tr>\n",
       "    <tr>\n",
       "      <th>...</th>\n",
       "      <td>...</td>\n",
       "      <td>...</td>\n",
       "      <td>...</td>\n",
       "      <td>...</td>\n",
       "      <td>...</td>\n",
       "      <td>...</td>\n",
       "    </tr>\n",
       "    <tr>\n",
       "      <th>188</th>\n",
       "      <td>Venezuela</td>\n",
       "      <td>333</td>\n",
       "      <td>100</td>\n",
       "      <td>3</td>\n",
       "      <td>7.7</td>\n",
       "      <td>SA</td>\n",
       "    </tr>\n",
       "    <tr>\n",
       "      <th>189</th>\n",
       "      <td>Vietnam</td>\n",
       "      <td>111</td>\n",
       "      <td>2</td>\n",
       "      <td>1</td>\n",
       "      <td>2.0</td>\n",
       "      <td>AS</td>\n",
       "    </tr>\n",
       "    <tr>\n",
       "      <th>190</th>\n",
       "      <td>Yemen</td>\n",
       "      <td>6</td>\n",
       "      <td>0</td>\n",
       "      <td>0</td>\n",
       "      <td>0.1</td>\n",
       "      <td>AS</td>\n",
       "    </tr>\n",
       "    <tr>\n",
       "      <th>191</th>\n",
       "      <td>Zambia</td>\n",
       "      <td>32</td>\n",
       "      <td>19</td>\n",
       "      <td>4</td>\n",
       "      <td>2.5</td>\n",
       "      <td>AF</td>\n",
       "    </tr>\n",
       "    <tr>\n",
       "      <th>192</th>\n",
       "      <td>Zimbabwe</td>\n",
       "      <td>64</td>\n",
       "      <td>18</td>\n",
       "      <td>4</td>\n",
       "      <td>4.7</td>\n",
       "      <td>AF</td>\n",
       "    </tr>\n",
       "  </tbody>\n",
       "</table>\n",
       "<p>170 rows × 6 columns</p>\n",
       "</div>"
      ],
      "text/plain": [
       "         country  beer_servings  spirit_servings  wine_servings  \\\n",
       "0    Afghanistan              0                0              0   \n",
       "1        Albania             89              132             54   \n",
       "2        Algeria             25                0             14   \n",
       "3        Andorra            245              138            312   \n",
       "4         Angola            217               57             45   \n",
       "..           ...            ...              ...            ...   \n",
       "188    Venezuela            333              100              3   \n",
       "189      Vietnam            111                2              1   \n",
       "190        Yemen              6                0              0   \n",
       "191       Zambia             32               19              4   \n",
       "192     Zimbabwe             64               18              4   \n",
       "\n",
       "     total_litres_of_pure_alcohol continent  \n",
       "0                             0.0        AS  \n",
       "1                             4.9        EU  \n",
       "2                             0.7        AF  \n",
       "3                            12.4        EU  \n",
       "4                             5.9        AF  \n",
       "..                            ...       ...  \n",
       "188                           7.7        SA  \n",
       "189                           2.0        AS  \n",
       "190                           0.1        AS  \n",
       "191                           2.5        AF  \n",
       "192                           4.7        AF  \n",
       "\n",
       "[170 rows x 6 columns]"
      ]
     },
     "execution_count": 20,
     "metadata": {},
     "output_type": "execute_result"
    }
   ],
   "source": [
    "data.dropna()"
   ]
  },
  {
   "cell_type": "markdown",
   "metadata": {
    "id": "wTbdPwMIJ7Ie"
   },
   "source": [
    "A function that takes name of the coloumn and outputs the data in\n",
    "the column"
   ]
  },
  {
   "cell_type": "code",
   "execution_count": 21,
   "metadata": {
    "id": "ZKhwiLeMJ0sN"
   },
   "outputs": [],
   "source": [
    "def function6(data):\n",
    "\n",
    "  column = input(\"Enter name of column : \")\n",
    "  print(data[column])"
   ]
  },
  {
   "cell_type": "code",
   "execution_count": 22,
   "metadata": {
    "id": "pJ4U8XrbKSMI"
   },
   "outputs": [
    {
     "name": "stdout",
     "output_type": "stream",
     "text": [
      "Enter name of column : country\n",
      "0      Afghanistan\n",
      "1          Albania\n",
      "2          Algeria\n",
      "3          Andorra\n",
      "4           Angola\n",
      "          ...     \n",
      "188      Venezuela\n",
      "189        Vietnam\n",
      "190          Yemen\n",
      "191         Zambia\n",
      "192       Zimbabwe\n",
      "Name: country, Length: 193, dtype: object\n"
     ]
    }
   ],
   "source": [
    "function6(data)"
   ]
  },
  {
   "cell_type": "markdown",
   "metadata": {},
   "source": [
    "Plot histograms of data"
   ]
  },
  {
   "cell_type": "code",
   "execution_count": 34,
   "metadata": {
    "id": "ariNb1goKVF-"
   },
   "outputs": [],
   "source": [
    "def function7(servings):\n",
    "\n",
    "    plt.hist(servings, color = \"g\")\n",
    "\n",
    "    plt.title(\"Servings According To Countries\")\n",
    "    \n",
    "    plt.xlabel(\"Serving\")\n",
    "    plt.ylabel(\"Countries\")\n",
    "\n",
    "    plt.show()"
   ]
  },
  {
   "cell_type": "code",
   "execution_count": 35,
   "metadata": {},
   "outputs": [
    {
     "data": {
      "image/png": "[encoded data removed]",
      "text/plain": [
       "<Figure size 432x288 with 1 Axes>"
      ]
     },
     "metadata": {
      "needs_background": "light"
     },
     "output_type": "display_data"
    }
   ],
   "source": [
    "function7(data['total_litres_of_pure_alcohol'])"
   ]
  },
  {
   "cell_type": "markdown",
   "metadata": {},
   "source": [
    "Plot a scatter plot in 2d and 3d"
   ]
  },
  {
   "cell_type": "code",
   "execution_count": 79,
   "metadata": {},
   "outputs": [],
   "source": [
    "def function8(data):\n",
    "    \n",
    "    x_axis = data['spirit_servings']\n",
    "    y_axis = data['total_litres_of_pure_alcohol']\n",
    "    z_axis = data['wine_servings']\n",
    "    \n",
    "    plt.scatter(x_axis, y_axis, c=\"g\")\n",
    "\n",
    "    plt.title('Sprite Servings by Total Litres Of Alcohol')\n",
    "    \n",
    "    plt.xlabel('Sprite Serving')\n",
    "    plt.ylabel('Pure Alcohol')\n",
    "    \n",
    "    plt.show()\n",
    "    \n",
    "    fig = plt.figure()\n",
    "    \n",
    "    types = fig.add_subplot(projection='3d')\n",
    "    types.scatter(x_axis, y_axis, z_axis, c=\"g\")\n",
    "    \n",
    "    types.set_xlabel('spirit_servings')\n",
    "    types.set_ylabel('total_litres_of_pure_alcohol')\n",
    "    types.set_zlabel('wine_servings')\n",
    "\n",
    "    plt.show()"
   ]
  },
  {
   "cell_type": "code",
   "execution_count": 80,
   "metadata": {},
   "outputs": [
    {
     "data": {
      "image/png": "[encoded data removed]",
      "text/plain": [
       "<Figure size 432x288 with 1 Axes>"
      ]
     },
     "metadata": {
      "needs_background": "light"
     },
     "output_type": "display_data"
    },
    {
     "data": {
      "image/png": "[encoded data removed]",
      "text/plain": [
       "<Figure size 432x288 with 1 Axes>"
      ]
     },
     "metadata": {
      "needs_background": "light"
     },
     "output_type": "display_data"
    }
   ],
   "source": [
    "function8(data)"
   ]
  },
  {
   "cell_type": "markdown",
   "metadata": {},
   "source": [
    "Plot a pie and a bar chart"
   ]
  },
  {
   "cell_type": "code",
   "execution_count": 68,
   "metadata": {},
   "outputs": [],
   "source": [
    "def function9(servings , data):\n",
    "    \n",
    "    plt.hist(servings,  rwidth=0.9, histtype = \"bar\", align='mid', orientation='vertical', color = \"r\" , label = \"Servings\")\n",
    "    \n",
    "    plt.title(\"Servings According To Countries\")\n",
    "    \n",
    "    plt.xlabel(\"Serving\")\n",
    "    plt.ylabel(\"Countries\")\n",
    "    \n",
    "    plt.show()\n",
    "    \n",
    "    continent_share = data['continent'].value_counts()\n",
    "    \n",
    "    plt.figure(figsize=(4,4))\n",
    "    plt.pie(continent_share)\n",
    "    plt.show()"
   ]
  },
  {
   "cell_type": "code",
   "execution_count": 69,
   "metadata": {},
   "outputs": [
    {
     "data": {
      "image/png": "[encoded data removed]",
      "text/plain": [
       "<Figure size 432x288 with 1 Axes>"
      ]
     },
     "metadata": {
      "needs_background": "light"
     },
     "output_type": "display_data"
    },
    {
     "data": {
      "image/png": "[encoded data removed]",
      "text/plain": [
       "<Figure size 288x288 with 1 Axes>"
      ]
     },
     "metadata": {},
     "output_type": "display_data"
    }
   ],
   "source": [
    "function9(data['total_litres_of_pure_alcohol'] , data)"
   ]
  },
  {
   "cell_type": "code",
   "execution_count": null,
   "metadata": {},
   "outputs": [],
   "source": []
  }
 ],
 "metadata": {
  "colab": {
   "collapsed_sections": [],
   "name": "Lab2.ipynb",
   "private_outputs": true,
   "provenance": []
  },
  "kernelspec": {
   "display_name": "Python 3 (ipykernel)",
   "language": "python",
   "name": "python3"
  },
  "language_info": {
   "codemirror_mode": {
    "name": "ipython",
    "version": 3
   },
   "file_extension": ".py",
   "mimetype": "text/x-python",
   "name": "python",
   "nbconvert_exporter": "python",
   "pygments_lexer": "ipython3",
   "version": "3.9.7"
  }
 },
 "nbformat": 4,
 "nbformat_minor": 1
}
