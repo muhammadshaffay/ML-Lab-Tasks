{
  "nbformat": 4,
  "nbformat_minor": 0,
  "metadata": {
    "colab": {
      "private_outputs": true,
      "provenance": [],
      "collapsed_sections": []
    },
    "kernelspec": {
      "name": "python3",
      "display_name": "Python 3"
    },
    "language_info": {
      "name": "python"
    }
  },
  "cells": [
    {
      "cell_type": "markdown",
      "source": [
        "### Use the sentences in the last lab to perform Naïve Bayes classification, however, this time your code should cater to the words not in the corpus."
      ],
      "metadata": {
        "id": "gQe0O5rc8Gqt"
      }
    },
    {
      "cell_type": "markdown",
      "source": [
        "##### Dataset"
      ],
      "metadata": {
        "id": "x9xrbECb8lsE"
      }
    },
    {
      "cell_type": "code",
      "source": [
        "positive = 'I love mangoes Mangoes are a lot tastier than other fruits I like mangoes because they are good Apples are good too but I prefer mangoes People say mango is the king of fruit so that is why mangoes are good Mangoes are good because they are juicy'\n",
        "positive"
      ],
      "metadata": {
        "id": "WmgF9qZ68LbK"
      },
      "execution_count": null,
      "outputs": []
    },
    {
      "cell_type": "code",
      "source": [
        "negative = 'Eating too many mangoes can have a negative impact on your health Mangoes are good but not too good, I like apples more than mangoes I don’t like mangoes Mangoes are not good I don’t like mangoes because they are expensive'\n",
        "negative"
      ],
      "metadata": {
        "id": "-VXdXXnl8hWR"
      },
      "execution_count": null,
      "outputs": []
    },
    {
      "cell_type": "markdown",
      "source": [
        "##### Counting Word Probabilities"
      ],
      "metadata": {
        "id": "MNCGzvHk88Rw"
      }
    },
    {
      "cell_type": "code",
      "execution_count": null,
      "metadata": {
        "id": "jd1FNITE7oU1"
      },
      "outputs": [],
      "source": [
        "from collections import Counter\n",
        "from collections import defaultdict"
      ]
    },
    {
      "cell_type": "code",
      "source": [
        "# Formula \n",
        "\n",
        "# |C| = Total Word Count In The Class\n",
        "# |V| = Total Unique Word Count In The Dataset"
      ],
      "metadata": {
        "id": "wUIrs6d7GNpj"
      },
      "execution_count": null,
      "outputs": []
    },
    {
      "cell_type": "code",
      "source": [
        "# Probabilities\n",
        "def probability(count_word, count_class, vocab_size): return (count_word + 1) / (count_class + vocab_size) "
      ],
      "metadata": {
        "id": "zZxodTnfKx3a"
      },
      "execution_count": null,
      "outputs": []
    },
    {
      "cell_type": "code",
      "source": [
        "# Defaults\n",
        "def default_class1(): return (0 + 1) / (48 + 43) \n",
        "def default_class2(): return (0 + 1) / (41 + 43) "
      ],
      "metadata": {
        "id": "CsTlisZGRxHz"
      },
      "execution_count": null,
      "outputs": []
    },
    {
      "cell_type": "code",
      "source": [
        "def frequency(class1 , class2):\n",
        "\n",
        "# Replacing Unwanted Characters\n",
        "  class1 = class1.replace(',','')\n",
        "  class2 = class2.replace(',','')\n",
        "\n",
        "# Splitting Classes\n",
        "  temp_class1 = class1.lower().split(' ')\n",
        "  temp_class2 = class2.lower().split(' ')\n",
        "\n",
        "# Word Frequencies\n",
        "  unique_class1 = Counter(temp_class1)\n",
        "  unique_class2 = Counter(temp_class2)\n",
        "\n",
        "# Calculating |C|\n",
        "  C_class1 = len(temp_class1)\n",
        "  C_class2 = len(temp_class2)  \n",
        "\n",
        "# Calculating |V|\n",
        "  uniques_class1 = list(unique_class1.keys())\n",
        "\n",
        "  for i in list(unique_class2.keys()):\n",
        "      if i not in uniques_class1:\n",
        "          uniques_class1.append(i)\n",
        "\n",
        "  vocab_size = len(uniques_class1)\n",
        "\n",
        "# Default Dictionary\n",
        "\n",
        "  # Class 1\n",
        "  dict_class1 = defaultdict(default_class1)\n",
        "  for key , value in unique_class1.items():\n",
        "      dict_class1[key] = probability(value, C_class1, vocab_size)\n",
        "\n",
        "  # Class 2\n",
        "  dict_class2 = defaultdict(default_class2)\n",
        "  for key , value in unique_class2.items():\n",
        "      dict_class2[key] = probability(value, C_class2, vocab_size)\n",
        "\n",
        "  return dict_class1 , dict_class2, "
      ],
      "metadata": {
        "id": "bO-yInCz7xFu"
      },
      "execution_count": null,
      "outputs": []
    },
    {
      "cell_type": "code",
      "source": [
        "def inference(dict_class1 , dict_class2):\n",
        "\n",
        "  sentence = input(\"Enter A Sentence : \")\n",
        "  sentence = sentence.lower()\n",
        "  sentence = sentence.split(' ')\n",
        "\n",
        "  positive_probability = 6/11\n",
        "  negative_probability = 5/11\n",
        "\n",
        "  for word in sentence:\n",
        "      positive_probability *= dict_class1[word]\n",
        "      negative_probability *= dict_class2[word] \n",
        "\n",
        "  if positive_probability > negative_probability:\n",
        "      print(\"Positive\") \n",
        "  else:\n",
        "      print(\"Negative\") "
      ],
      "metadata": {
        "id": "Sg37cjSc97jG"
      },
      "execution_count": null,
      "outputs": []
    },
    {
      "cell_type": "code",
      "source": [
        "dict_class1 , dict_class2 = frequency(positive , negative)\n",
        "inference(dict_class1 , dict_class2)"
      ],
      "metadata": {
        "id": "aGOQqHNsUj2L"
      },
      "execution_count": null,
      "outputs": []
    }
  ]
}