{
 "cells": [
  {
   "cell_type": "code",
   "execution_count": 1,
   "id": "8e919626",
   "metadata": {},
   "outputs": [],
   "source": [
    "import numpy as np"
   ]
  },
  {
   "cell_type": "markdown",
   "id": "4e0b3fa2",
   "metadata": {},
   "source": [
    "Create a numpy array of int, characters, float and find their shapes"
   ]
  },
  {
   "cell_type": "code",
   "execution_count": 2,
   "id": "b2f3f528",
   "metadata": {},
   "outputs": [
    {
     "name": "stdout",
     "output_type": "stream",
     "text": [
      "[7 7 2 8 6 6 2 6 4 2] (10,)\n"
     ]
    }
   ],
   "source": [
    "integers = np.random.randint(1,10,10)\n",
    "print(integers , integers.shape)"
   ]
  },
  {
   "cell_type": "code",
   "execution_count": 3,
   "id": "e27a1e7d",
   "metadata": {},
   "outputs": [
    {
     "name": "stdout",
     "output_type": "stream",
     "text": [
      "[0.74635048 0.73699082 0.6175691  0.52667299 0.19211183 0.63399489\n",
      " 0.82579256 0.44712722 0.86912899 0.62267314] (10,)\n"
     ]
    }
   ],
   "source": [
    "floats = np.random.random(10)\n",
    "print(floats , floats.shape)"
   ]
  },
  {
   "cell_type": "code",
   "execution_count": 92,
   "id": "b138e9b1",
   "metadata": {},
   "outputs": [
    {
     "data": {
      "text/plain": [
       "['J', 'P', 'Y', 'A', 'C', 'H', 'P', 'C', 'I', 'B']"
      ]
     },
     "execution_count": 92,
     "metadata": {},
     "output_type": "execute_result"
    }
   ],
   "source": [
    "chars = np.arange(65,91)\n",
    "characters = []\n",
    "\n",
    "for i in range(10): \n",
    "    characters.append(chr(np.random.choice(chars)))\n",
    "\n",
    "characters"
   ]
  },
  {
   "cell_type": "markdown",
   "id": "dee10d0b",
   "metadata": {},
   "source": [
    "Create a zeros, empty, identity , eye and a full array"
   ]
  },
  {
   "cell_type": "code",
   "execution_count": 4,
   "id": "86d20897",
   "metadata": {},
   "outputs": [
    {
     "data": {
      "text/plain": [
       "array([[0., 0., 0., 0., 0., 0., 0., 0., 0., 0.],\n",
       "       [0., 0., 0., 0., 0., 0., 0., 0., 0., 0.],\n",
       "       [0., 0., 0., 0., 0., 0., 0., 0., 0., 0.],\n",
       "       [0., 0., 0., 0., 0., 0., 0., 0., 0., 0.],\n",
       "       [0., 0., 0., 0., 0., 0., 0., 0., 0., 0.],\n",
       "       [0., 0., 0., 0., 0., 0., 0., 0., 0., 0.],\n",
       "       [0., 0., 0., 0., 0., 0., 0., 0., 0., 0.],\n",
       "       [0., 0., 0., 0., 0., 0., 0., 0., 0., 0.],\n",
       "       [0., 0., 0., 0., 0., 0., 0., 0., 0., 0.],\n",
       "       [0., 0., 0., 0., 0., 0., 0., 0., 0., 0.]])"
      ]
     },
     "execution_count": 4,
     "metadata": {},
     "output_type": "execute_result"
    }
   ],
   "source": [
    "zeros = np.zeros(shape=(10,10))\n",
    "zeros"
   ]
  },
  {
   "cell_type": "code",
   "execution_count": 5,
   "id": "b9c19795",
   "metadata": {},
   "outputs": [
    {
     "data": {
      "text/plain": [
       "array([0.74635048, 0.73699082, 0.6175691 , 0.52667299, 0.19211183,\n",
       "       0.63399489, 0.82579256, 0.44712722, 0.86912899, 0.62267314])"
      ]
     },
     "execution_count": 5,
     "metadata": {},
     "output_type": "execute_result"
    }
   ],
   "source": [
    "empty = np.empty(10)\n",
    "empty"
   ]
  },
  {
   "cell_type": "code",
   "execution_count": 6,
   "id": "9db5a838",
   "metadata": {},
   "outputs": [
    {
     "data": {
      "text/plain": [
       "array([[1., 0., 0., 0., 0., 0., 0., 0., 0., 0.],\n",
       "       [0., 1., 0., 0., 0., 0., 0., 0., 0., 0.],\n",
       "       [0., 0., 1., 0., 0., 0., 0., 0., 0., 0.],\n",
       "       [0., 0., 0., 1., 0., 0., 0., 0., 0., 0.],\n",
       "       [0., 0., 0., 0., 1., 0., 0., 0., 0., 0.],\n",
       "       [0., 0., 0., 0., 0., 1., 0., 0., 0., 0.],\n",
       "       [0., 0., 0., 0., 0., 0., 1., 0., 0., 0.],\n",
       "       [0., 0., 0., 0., 0., 0., 0., 1., 0., 0.],\n",
       "       [0., 0., 0., 0., 0., 0., 0., 0., 1., 0.],\n",
       "       [0., 0., 0., 0., 0., 0., 0., 0., 0., 1.]])"
      ]
     },
     "execution_count": 6,
     "metadata": {},
     "output_type": "execute_result"
    }
   ],
   "source": [
    "identity = np.identity(10)\n",
    "identity"
   ]
  },
  {
   "cell_type": "code",
   "execution_count": 7,
   "id": "65b2f806",
   "metadata": {},
   "outputs": [
    {
     "data": {
      "text/plain": [
       "array([[1., 0., 0., 0., 0., 0., 0., 0.],\n",
       "       [0., 1., 0., 0., 0., 0., 0., 0.],\n",
       "       [0., 0., 1., 0., 0., 0., 0., 0.],\n",
       "       [0., 0., 0., 1., 0., 0., 0., 0.],\n",
       "       [0., 0., 0., 0., 1., 0., 0., 0.],\n",
       "       [0., 0., 0., 0., 0., 1., 0., 0.],\n",
       "       [0., 0., 0., 0., 0., 0., 1., 0.],\n",
       "       [0., 0., 0., 0., 0., 0., 0., 1.],\n",
       "       [0., 0., 0., 0., 0., 0., 0., 0.],\n",
       "       [0., 0., 0., 0., 0., 0., 0., 0.]])"
      ]
     },
     "execution_count": 7,
     "metadata": {},
     "output_type": "execute_result"
    }
   ],
   "source": [
    "eye = np.eye(10,8)\n",
    "eye"
   ]
  },
  {
   "cell_type": "code",
   "execution_count": 8,
   "id": "5720a6f1",
   "metadata": {},
   "outputs": [
    {
     "data": {
      "text/plain": [
       "array([[10, 10],\n",
       "       [10, 10],\n",
       "       [10, 10],\n",
       "       [10, 10],\n",
       "       [10, 10],\n",
       "       [10, 10],\n",
       "       [10, 10],\n",
       "       [10, 10]])"
      ]
     },
     "execution_count": 8,
     "metadata": {},
     "output_type": "execute_result"
    }
   ],
   "source": [
    "full = np.full((8,2),10)\n",
    "full"
   ]
  },
  {
   "cell_type": "markdown",
   "id": "0f5905fc",
   "metadata": {},
   "source": [
    "Declare an array having the datatype of object, is it possible?"
   ]
  },
  {
   "cell_type": "code",
   "execution_count": 18,
   "id": "9bbc84b0",
   "metadata": {},
   "outputs": [
    {
     "data": {
      "text/plain": [
       "array([1, 'shaffay', 'm', 10.1], dtype=object)"
      ]
     },
     "execution_count": 18,
     "metadata": {},
     "output_type": "execute_result"
    }
   ],
   "source": [
    "objects = np.array([1,'shaffay','m',10.1],dtype=object)\n",
    "objects"
   ]
  },
  {
   "cell_type": "markdown",
   "id": "cc24fc3e",
   "metadata": {},
   "source": [
    "Create an array having 5 equally spaced numbers ranging from 5 to 15"
   ]
  },
  {
   "cell_type": "code",
   "execution_count": 10,
   "id": "ecdf322b",
   "metadata": {},
   "outputs": [
    {
     "data": {
      "text/plain": [
       "array([ 5. ,  7.5, 10. , 12.5, 15. ])"
      ]
     },
     "execution_count": 10,
     "metadata": {},
     "output_type": "execute_result"
    }
   ],
   "source": [
    "array = np.linspace(5,15,5)\n",
    "array"
   ]
  },
  {
   "cell_type": "markdown",
   "id": "864b1364",
   "metadata": {},
   "source": [
    "Create a numpy array ranging from 1 to 100."
   ]
  },
  {
   "cell_type": "code",
   "execution_count": 11,
   "id": "19da77c9",
   "metadata": {},
   "outputs": [
    {
     "data": {
      "text/plain": [
       "array([  1,   2,   3,   4,   5,   6,   7,   8,   9,  10,  11,  12,  13,\n",
       "        14,  15,  16,  17,  18,  19,  20,  21,  22,  23,  24,  25,  26,\n",
       "        27,  28,  29,  30,  31,  32,  33,  34,  35,  36,  37,  38,  39,\n",
       "        40,  41,  42,  43,  44,  45,  46,  47,  48,  49,  50,  51,  52,\n",
       "        53,  54,  55,  56,  57,  58,  59,  60,  61,  62,  63,  64,  65,\n",
       "        66,  67,  68,  69,  70,  71,  72,  73,  74,  75,  76,  77,  78,\n",
       "        79,  80,  81,  82,  83,  84,  85,  86,  87,  88,  89,  90,  91,\n",
       "        92,  93,  94,  95,  96,  97,  98,  99, 100])"
      ]
     },
     "execution_count": 11,
     "metadata": {},
     "output_type": "execute_result"
    }
   ],
   "source": [
    "array = np.arange(1,101)\n",
    "array"
   ]
  },
  {
   "cell_type": "markdown",
   "id": "668c7798",
   "metadata": {},
   "source": [
    "Reshape the above array into (100,15). Is it possible?"
   ]
  },
  {
   "cell_type": "code",
   "execution_count": 12,
   "id": "be2550d8",
   "metadata": {},
   "outputs": [
    {
     "ename": "ValueError",
     "evalue": "cannot reshape array of size 100 into shape (100,15)",
     "output_type": "error",
     "traceback": [
      "\u001b[0;31m---------------------------------------------------------------------------\u001b[0m",
      "\u001b[0;31mValueError\u001b[0m                                Traceback (most recent call last)",
      "\u001b[0;32m/tmp/ipykernel_16983/3527090036.py\u001b[0m in \u001b[0;36m<module>\u001b[0;34m\u001b[0m\n\u001b[0;32m----> 1\u001b[0;31m \u001b[0marray\u001b[0m \u001b[0;34m=\u001b[0m \u001b[0marray\u001b[0m\u001b[0;34m.\u001b[0m\u001b[0mreshape\u001b[0m\u001b[0;34m(\u001b[0m\u001b[0;36m100\u001b[0m\u001b[0;34m,\u001b[0m\u001b[0;36m15\u001b[0m\u001b[0;34m)\u001b[0m\u001b[0;34m\u001b[0m\u001b[0;34m\u001b[0m\u001b[0m\n\u001b[0m\u001b[1;32m      2\u001b[0m \u001b[0marray\u001b[0m\u001b[0;34m\u001b[0m\u001b[0;34m\u001b[0m\u001b[0m\n",
      "\u001b[0;31mValueError\u001b[0m: cannot reshape array of size 100 into shape (100,15)"
     ]
    }
   ],
   "source": [
    "array = array.reshape(100,15)\n",
    "array"
   ]
  },
  {
   "cell_type": "markdown",
   "id": "cf51c445",
   "metadata": {},
   "source": [
    "Reshape the array into (100,10)."
   ]
  },
  {
   "cell_type": "code",
   "execution_count": 13,
   "id": "cca70cd3",
   "metadata": {},
   "outputs": [
    {
     "data": {
      "text/plain": [
       "array([[  1,   2,   3,   4,   5,   6,   7,   8,   9,  10],\n",
       "       [ 11,  12,  13,  14,  15,  16,  17,  18,  19,  20],\n",
       "       [ 21,  22,  23,  24,  25,  26,  27,  28,  29,  30],\n",
       "       [ 31,  32,  33,  34,  35,  36,  37,  38,  39,  40],\n",
       "       [ 41,  42,  43,  44,  45,  46,  47,  48,  49,  50],\n",
       "       [ 51,  52,  53,  54,  55,  56,  57,  58,  59,  60],\n",
       "       [ 61,  62,  63,  64,  65,  66,  67,  68,  69,  70],\n",
       "       [ 71,  72,  73,  74,  75,  76,  77,  78,  79,  80],\n",
       "       [ 81,  82,  83,  84,  85,  86,  87,  88,  89,  90],\n",
       "       [ 91,  92,  93,  94,  95,  96,  97,  98,  99, 100]])"
      ]
     },
     "execution_count": 13,
     "metadata": {},
     "output_type": "execute_result"
    }
   ],
   "source": [
    "array = array.reshape(10,10)\n",
    "array"
   ]
  },
  {
   "cell_type": "markdown",
   "id": "f51dc3f2",
   "metadata": {},
   "source": [
    "Flatten and ravel the reshaped array. What is the difference?"
   ]
  },
  {
   "cell_type": "code",
   "execution_count": 14,
   "id": "0882db7a",
   "metadata": {},
   "outputs": [
    {
     "data": {
      "text/plain": [
       "array([  1,   2,   3,   4,   5,   6,   7,   8,   9,  10,  11,  12,  13,\n",
       "        14,  15,  16,  17,  18,  19,  20,  21,  22,  23,  24,  25,  26,\n",
       "        27,  28,  29,  30,  31,  32,  33,  34,  35,  36,  37,  38,  39,\n",
       "        40,  41,  42,  43,  44,  45,  46,  47,  48,  49,  50,  51,  52,\n",
       "        53,  54,  55,  56,  57,  58,  59,  60,  61,  62,  63,  64,  65,\n",
       "        66,  67,  68,  69,  70,  71,  72,  73,  74,  75,  76,  77,  78,\n",
       "        79,  80,  81,  82,  83,  84,  85,  86,  87,  88,  89,  90,  91,\n",
       "        92,  93,  94,  95,  96,  97,  98,  99, 100])"
      ]
     },
     "execution_count": 14,
     "metadata": {},
     "output_type": "execute_result"
    }
   ],
   "source": [
    "# Flatten creates deepcopy\n",
    "flatten = array.flatten()\n",
    "flatten"
   ]
  },
  {
   "cell_type": "code",
   "execution_count": 15,
   "id": "af0112c6",
   "metadata": {},
   "outputs": [
    {
     "data": {
      "text/plain": [
       "array([  1,   2,   3,   4,   5,   6,   7,   8,   9,  10,  11,  12,  13,\n",
       "        14,  15,  16,  17,  18,  19,  20,  21,  22,  23,  24,  25,  26,\n",
       "        27,  28,  29,  30,  31,  32,  33,  34,  35,  36,  37,  38,  39,\n",
       "        40,  41,  42,  43,  44,  45,  46,  47,  48,  49,  50,  51,  52,\n",
       "        53,  54,  55,  56,  57,  58,  59,  60,  61,  62,  63,  64,  65,\n",
       "        66,  67,  68,  69,  70,  71,  72,  73,  74,  75,  76,  77,  78,\n",
       "        79,  80,  81,  82,  83,  84,  85,  86,  87,  88,  89,  90,  91,\n",
       "        92,  93,  94,  95,  96,  97,  98,  99, 100])"
      ]
     },
     "execution_count": 15,
     "metadata": {},
     "output_type": "execute_result"
    }
   ],
   "source": [
    "# Ravel creates shallowcopy\n",
    "ravel = array.ravel()\n",
    "ravel"
   ]
  },
  {
   "cell_type": "markdown",
   "id": "2d3794ae",
   "metadata": {},
   "source": [
    "Take an array [[1 2 3] [4 5 6] [ 7 8 9]]. Sum it along 0 and 1 axis"
   ]
  },
  {
   "cell_type": "code",
   "execution_count": 24,
   "id": "1f06ca62",
   "metadata": {},
   "outputs": [
    {
     "name": "stdout",
     "output_type": "stream",
     "text": [
      "Suming columns :  [12 15 18]\n",
      "Summing rows :  [ 6 15 24]\n"
     ]
    }
   ],
   "source": [
    "array =  np.array([[1, 2, 3], [4, 5, 6], [ 7, 8, 9]])\n",
    "\n",
    "print(\"Suming columns : \" , np.sum(array,axis=0))\n",
    "print(\"Summing rows : \" , np.sum(array,axis=1))"
   ]
  },
  {
   "cell_type": "markdown",
   "id": "ad51b7a9",
   "metadata": {},
   "source": [
    "Find the number of bytes used by your array"
   ]
  },
  {
   "cell_type": "code",
   "execution_count": 25,
   "id": "d0e50f44",
   "metadata": {},
   "outputs": [
    {
     "data": {
      "text/plain": [
       "72"
      ]
     },
     "execution_count": 25,
     "metadata": {},
     "output_type": "execute_result"
    }
   ],
   "source": [
    "array.nbytes"
   ]
  },
  {
   "cell_type": "markdown",
   "id": "ea86981f",
   "metadata": {},
   "source": [
    "Find the maximum and minimum values in a 1D array."
   ]
  },
  {
   "cell_type": "code",
   "execution_count": 28,
   "id": "b7d68493",
   "metadata": {},
   "outputs": [
    {
     "name": "stdout",
     "output_type": "stream",
     "text": [
      "Minimum :  5.0\n",
      "Maximum :  15.0\n"
     ]
    }
   ],
   "source": [
    "array = np.linspace(5,15,5)\n",
    "print(\"Minimum : \" , np.min(array))\n",
    "print(\"Maximum : \" , np.max(array))"
   ]
  },
  {
   "cell_type": "markdown",
   "id": "dc40a2b3",
   "metadata": {},
   "source": [
    "Find the maximum and minimum values in 2D array"
   ]
  },
  {
   "cell_type": "code",
   "execution_count": 32,
   "id": "c44f66be",
   "metadata": {},
   "outputs": [
    {
     "name": "stdout",
     "output_type": "stream",
     "text": [
      "Minimum (Col):  [1 2 3]\n",
      "Minimum (Row):  [1 4 7]\n",
      "Maximum (Col):  [7 8 9]\n",
      "Maximum (Row):  [3 6 9]\n"
     ]
    }
   ],
   "source": [
    "array =  np.array([[1, 2, 3], [4, 5, 6], [ 7, 8, 9]])\n",
    "\n",
    "print(\"Minimum (Col): \" , np.min(array , axis=0))\n",
    "print(\"Minimum (Row): \" , np.min(array , axis=1))\n",
    "\n",
    "print(\"Maximum (Col): \" , np.max(array , axis=0))\n",
    "print(\"Maximum (Row): \" , np.max(array , axis=1))"
   ]
  },
  {
   "cell_type": "markdown",
   "id": "62e96897",
   "metadata": {},
   "source": [
    "Sort an array"
   ]
  },
  {
   "cell_type": "code",
   "execution_count": 35,
   "id": "44de856a",
   "metadata": {},
   "outputs": [
    {
     "name": "stdout",
     "output_type": "stream",
     "text": [
      "Unsorted :  [4 8 5 5 4 6 7 7 6 3]\n",
      "Sorted :  [3 4 4 5 5 6 6 7 7 8]\n"
     ]
    }
   ],
   "source": [
    "array = np.random.randint(1,10,10)\n",
    "print(\"Unsorted : \" , array)\n",
    "print(\"Sorted : \" , np.sort(array))"
   ]
  },
  {
   "cell_type": "markdown",
   "id": "534d2497",
   "metadata": {},
   "source": [
    "Is * and mul the same as dot product for numpy arrays and matrices? Check."
   ]
  },
  {
   "cell_type": "code",
   "execution_count": 76,
   "id": "3f49e730",
   "metadata": {},
   "outputs": [],
   "source": [
    "array1 = np.linspace(5,15,5)\n",
    "array2 = np.linspace(5,15,5)"
   ]
  },
  {
   "cell_type": "code",
   "execution_count": 77,
   "id": "5a34e6ab",
   "metadata": {},
   "outputs": [
    {
     "name": "stdout",
     "output_type": "stream",
     "text": [
      "[ 25.    56.25 100.   156.25 225.  ]\n"
     ]
    }
   ],
   "source": [
    "print(array1 * array2)"
   ]
  },
  {
   "cell_type": "code",
   "execution_count": 78,
   "id": "68885cf3",
   "metadata": {},
   "outputs": [
    {
     "name": "stdout",
     "output_type": "stream",
     "text": [
      "562.5\n"
     ]
    }
   ],
   "source": [
    "print(array1.dot(array2))"
   ]
  },
  {
   "cell_type": "markdown",
   "id": "c0ee80d5",
   "metadata": {},
   "source": [
    "Not Equal. Dimensions are different"
   ]
  },
  {
   "cell_type": "markdown",
   "id": "4a33f75b",
   "metadata": {},
   "source": [
    "Take the square root and norm of an array."
   ]
  },
  {
   "cell_type": "code",
   "execution_count": 39,
   "id": "ce2c2c18",
   "metadata": {},
   "outputs": [
    {
     "name": "stdout",
     "output_type": "stream",
     "text": [
      "Array :  [4 8 5 5 4 6 7 7 6 3]\n",
      "\n",
      "Square Root :  [2.         2.82842712 2.23606798 2.23606798 2.         2.44948974\n",
      " 2.64575131 2.64575131 2.44948974 1.73205081]\n",
      "\n",
      "Normalize:  18.027756377319946\n"
     ]
    }
   ],
   "source": [
    "print(\"Array : \" , array)\n",
    "print(\"\\nSquare Root : \" , np.sqrt(array))\n",
    "print(\"\\nNormalize: \" , np.linalg.norm(array))"
   ]
  },
  {
   "cell_type": "markdown",
   "id": "2cb017f3",
   "metadata": {},
   "source": [
    "Find the std, non-zero, zero values and mean of an array."
   ]
  },
  {
   "cell_type": "code",
   "execution_count": 46,
   "id": "7c327963",
   "metadata": {},
   "outputs": [
    {
     "name": "stdout",
     "output_type": "stream",
     "text": [
      "Array :  [4 8 5 5 4 6 7 7 6 3]\n",
      "\n",
      "Standard Deviation :  1.5\n",
      "\n",
      "Mean :  5.5\n",
      "\n",
      "Non Zeros :  [4 8 5 5 4 6 7 7 6 3]\n",
      "\n",
      "Zeros :  []\n"
     ]
    }
   ],
   "source": [
    "print(\"Array : \" , array)\n",
    "\n",
    "print(\"\\nStandard Deviation : \" , np.std(array))\n",
    "print(\"\\nMean : \" , np.mean(array))\n",
    "\n",
    "print(\"\\nNon Zeros : \" , array[array != 0])\n",
    "print(\"\\nZeros : \" , array[array == 0])"
   ]
  },
  {
   "cell_type": "markdown",
   "id": "f187fc8b",
   "metadata": {},
   "source": [
    "Convert some angles to radians and vice versa."
   ]
  },
  {
   "cell_type": "code",
   "execution_count": 48,
   "id": "8c2c81e9",
   "metadata": {},
   "outputs": [
    {
     "data": {
      "text/plain": [
       "array([4, 8, 5, 5, 4, 6, 7, 7, 6, 3])"
      ]
     },
     "execution_count": 48,
     "metadata": {},
     "output_type": "execute_result"
    }
   ],
   "source": [
    "array"
   ]
  },
  {
   "cell_type": "code",
   "execution_count": 49,
   "id": "64429493",
   "metadata": {},
   "outputs": [
    {
     "data": {
      "text/plain": [
       "array([229.18311805, 458.3662361 , 286.47889757, 286.47889757,\n",
       "       229.18311805, 343.77467708, 401.07045659, 401.07045659,\n",
       "       343.77467708, 171.88733854])"
      ]
     },
     "execution_count": 49,
     "metadata": {},
     "output_type": "execute_result"
    }
   ],
   "source": [
    "angles = np.degrees(array)\n",
    "angles"
   ]
  },
  {
   "cell_type": "code",
   "execution_count": 51,
   "id": "93f0314f",
   "metadata": {},
   "outputs": [
    {
     "data": {
      "text/plain": [
       "array([0.06981317, 0.13962634, 0.08726646, 0.08726646, 0.06981317,\n",
       "       0.10471976, 0.12217305, 0.12217305, 0.10471976, 0.05235988])"
      ]
     },
     "execution_count": 51,
     "metadata": {},
     "output_type": "execute_result"
    }
   ],
   "source": [
    "radians = np.radians(array)\n",
    "radians"
   ]
  },
  {
   "cell_type": "markdown",
   "id": "e7d9e14d",
   "metadata": {},
   "source": [
    "Save and load some of your arrays"
   ]
  },
  {
   "cell_type": "code",
   "execution_count": 54,
   "id": "9ecc3a89",
   "metadata": {},
   "outputs": [],
   "source": [
    "np.save('array',array)"
   ]
  },
  {
   "cell_type": "code",
   "execution_count": 65,
   "id": "25f4d62f",
   "metadata": {},
   "outputs": [
    {
     "data": {
      "text/plain": [
       "array([4, 8, 5, 5, 4, 6, 7, 7, 6, 3])"
      ]
     },
     "execution_count": 65,
     "metadata": {},
     "output_type": "execute_result"
    }
   ],
   "source": [
    "np.load('array.npy')"
   ]
  },
  {
   "cell_type": "markdown",
   "id": "5ed6e892",
   "metadata": {},
   "source": [
    "Calculate the mean, std, var, max, min, of an array with shape (3,3,12,3) containing floats drawn\n",
    "from a normal distribution with mean 21 and sigma 4.5. see the np.random.normal."
   ]
  },
  {
   "cell_type": "code",
   "execution_count": 75,
   "id": "cc3c6015",
   "metadata": {},
   "outputs": [
    {
     "data": {
      "text/plain": [
       "array([[[[27.66231469, 22.30024806, 23.49231014],\n",
       "         [21.20819386, 27.9379371 , 14.64658379],\n",
       "         [14.51822837, 21.9698745 , 21.15125184],\n",
       "         [22.89218056, 12.29845875, 14.50426187],\n",
       "         [18.94859757, 22.94503226, 16.76891088],\n",
       "         [17.08067483, 24.32358799, 14.73530435],\n",
       "         [20.54114838, 25.59124561, 22.2847025 ],\n",
       "         [19.76041969, 27.05557942, 18.92232841],\n",
       "         [26.67130034, 20.85298673, 25.40622758],\n",
       "         [16.42642291, 32.09270846, 16.22606011],\n",
       "         [20.9425334 , 18.7242066 , 14.80774347],\n",
       "         [11.66892478, 13.73629999, 14.69366101]],\n",
       "\n",
       "        [[24.0895022 , 25.09397001, 20.45014599],\n",
       "         [18.15474379, 20.50721673, 24.27735967],\n",
       "         [17.83557606, 24.27374154, 16.76540112],\n",
       "         [29.01695348, 24.14026275, 19.30640965],\n",
       "         [24.05985169, 17.84000415, 26.99102736],\n",
       "         [27.81748125, 24.29391899, 19.77393944],\n",
       "         [21.76519578, 19.91628445, 22.49088538],\n",
       "         [28.89583294, 30.57375373, 22.23021239],\n",
       "         [24.6958453 , 25.34806968, 25.27282603],\n",
       "         [23.80692292, 16.36686011, 21.18126783],\n",
       "         [19.34903706, 19.4061449 , 22.73967668],\n",
       "         [15.60924177, 16.83008424, 18.31212858]],\n",
       "\n",
       "        [[24.48266272, 28.17847886, 19.01015729],\n",
       "         [13.39860876, 28.13633739, 20.77250634],\n",
       "         [18.84525168, 27.40878979, 18.30156122],\n",
       "         [18.46368465, 22.11755403, 19.15668825],\n",
       "         [25.50136369,  5.16527872, 17.6495451 ],\n",
       "         [28.93071381, 15.79075976, 26.45561274],\n",
       "         [29.86228764, 22.2148506 , 28.20926769],\n",
       "         [30.91460915, 14.3812072 , 18.20697199],\n",
       "         [21.21453133, 22.77380325, 22.62614031],\n",
       "         [24.3259092 , 17.81345355, 18.77671298],\n",
       "         [23.85658411, 14.75541344, 21.82153209],\n",
       "         [25.85742949, 19.71199275, 23.5515726 ]]],\n",
       "\n",
       "\n",
       "       [[[23.66576577, 17.48142357, 18.7536432 ],\n",
       "         [16.42273564, 28.3197069 , 13.71336421],\n",
       "         [22.38368969, 30.72047414, 13.7436464 ],\n",
       "         [18.89306683, 22.03153409, 29.41591114],\n",
       "         [28.17790589, 21.58223312, 26.84990953],\n",
       "         [21.01791432, 23.98700873, 22.91920876],\n",
       "         [20.88126652, 17.38571166,  9.93192926],\n",
       "         [24.22333389, 23.09759466, 23.57337414],\n",
       "         [19.01605808, 17.36990127, 21.54829799],\n",
       "         [23.87242684, 24.86401376, 29.97889225],\n",
       "         [19.180934  , 19.17450837, 25.83902269],\n",
       "         [15.7550183 , 24.09906713, 19.01839244]],\n",
       "\n",
       "        [[20.88760186, 18.7437005 , 23.6269726 ],\n",
       "         [23.03262031, 23.62426571, 16.94792035],\n",
       "         [19.28646553, 27.23664982, 13.63266334],\n",
       "         [18.39503814, 19.60624586, 19.82161344],\n",
       "         [18.50713539, 15.68906204, 29.51511908],\n",
       "         [21.32331591,  9.60143758, 21.04022628],\n",
       "         [14.92579864, 26.09890887, 21.21348744],\n",
       "         [15.99106202, 16.06165449, 18.80300289],\n",
       "         [25.52461798,  9.48622233, 17.42837713],\n",
       "         [20.30624683, 20.09790124, 19.55722141],\n",
       "         [24.96140018, 23.00831   , 16.90509828],\n",
       "         [23.91232155, 19.92984571, 28.00445933]],\n",
       "\n",
       "        [[17.54270035, 17.40187028, 30.50577429],\n",
       "         [22.8987802 , 20.05444788, 20.49499682],\n",
       "         [21.52411538, 12.02773239, 21.10001195],\n",
       "         [18.4774515 , 28.2004859 , 14.90441745],\n",
       "         [26.58216244, 18.19661863, 20.72445904],\n",
       "         [18.25863953, 22.9180002 , 16.12304768],\n",
       "         [17.7927782 , 15.19752421, 26.20960494],\n",
       "         [20.95770643, 26.73807329, 22.64486463],\n",
       "         [18.35472659, 16.469817  , 23.69849257],\n",
       "         [23.94858555, 20.14502656, 24.30412133],\n",
       "         [24.48741865, 26.77185527, 13.79990178],\n",
       "         [29.21091856, 20.4863483 , 24.38917521]]],\n",
       "\n",
       "\n",
       "       [[[17.09426332, 19.73429315, 24.86079269],\n",
       "         [24.65075413, 16.24607877, 20.7157655 ],\n",
       "         [21.45570943, 19.55443346, 14.86662135],\n",
       "         [14.29979888, 27.14036834, 24.12996576],\n",
       "         [23.53007519, 23.1537559 , 18.98700921],\n",
       "         [29.21505806, 22.87026158, 17.84524201],\n",
       "         [28.16732361, 21.50221216, 16.96255285],\n",
       "         [15.19999428, 17.08813438, 23.79755043],\n",
       "         [20.03096945, 17.68478722, 15.81018793],\n",
       "         [24.2087605 , 21.37372131, 18.28316635],\n",
       "         [20.51397663, 19.43448568, 18.03671215],\n",
       "         [17.24791561, 24.30695869, 24.63555412]],\n",
       "\n",
       "        [[18.81591224, 22.61937316, 21.02686874],\n",
       "         [20.64870127, 24.93549062, 20.17460858],\n",
       "         [27.11769244, 11.44828329, 24.29349532],\n",
       "         [19.42952026, 25.92902683, 22.61343516],\n",
       "         [13.53339221, 17.0336907 , 20.69104136],\n",
       "         [24.09644868, 10.70724325, 26.80729443],\n",
       "         [18.43192861, 20.99013755, 20.61220459],\n",
       "         [24.23891239, 20.9138288 , 18.22486426],\n",
       "         [19.33812908, 25.01447737, 19.83900907],\n",
       "         [23.49202631, 29.72319639, 13.00671848],\n",
       "         [19.79254088, 24.68704376, 25.54664529],\n",
       "         [17.45681941, 17.88048033, 18.70486188]],\n",
       "\n",
       "        [[22.88333382, 28.43321669, 16.7378638 ],\n",
       "         [14.95340768, 25.78911353, 23.48481815],\n",
       "         [21.21117093, 21.22759448, 17.3537984 ],\n",
       "         [18.93307156, 26.10591547, 16.82207345],\n",
       "         [23.66820992, 19.29155316, 22.24695933],\n",
       "         [20.66028312, 21.27555324, 24.34566245],\n",
       "         [13.96758463, 23.06037746, 19.79444965],\n",
       "         [20.36382241, 13.38153651, 19.56992066],\n",
       "         [26.96574821, 21.80726775, 22.74172319],\n",
       "         [22.38143952, 23.93532083, 27.32288659],\n",
       "         [18.01029727, 14.30898347, 17.99097261],\n",
       "         [21.28016474, 21.41795218, 20.10382749]]]])"
      ]
     },
     "execution_count": 75,
     "metadata": {},
     "output_type": "execute_result"
    }
   ],
   "source": [
    "array = np.random.normal(21,4.5,[3,3,12,3])\n",
    "array"
   ]
  },
  {
   "cell_type": "code",
   "execution_count": 68,
   "id": "601f52ec",
   "metadata": {},
   "outputs": [
    {
     "data": {
      "text/plain": [
       "21.064443044639358"
      ]
     },
     "execution_count": 68,
     "metadata": {},
     "output_type": "execute_result"
    }
   ],
   "source": [
    "np.mean(array)"
   ]
  },
  {
   "cell_type": "code",
   "execution_count": 69,
   "id": "65f7ddc1",
   "metadata": {},
   "outputs": [
    {
     "data": {
      "text/plain": [
       "4.470150274375113"
      ]
     },
     "execution_count": 69,
     "metadata": {},
     "output_type": "execute_result"
    }
   ],
   "source": [
    "np.std(array)"
   ]
  },
  {
   "cell_type": "code",
   "execution_count": 70,
   "id": "f1e83ddc",
   "metadata": {},
   "outputs": [
    {
     "data": {
      "text/plain": [
       "36.20327077198603"
      ]
     },
     "execution_count": 70,
     "metadata": {},
     "output_type": "execute_result"
    }
   ],
   "source": [
    "np.max(array)"
   ]
  },
  {
   "cell_type": "code",
   "execution_count": 71,
   "id": "200efd6e",
   "metadata": {},
   "outputs": [
    {
     "data": {
      "text/plain": [
       "6.97846870317651"
      ]
     },
     "execution_count": 71,
     "metadata": {},
     "output_type": "execute_result"
    }
   ],
   "source": [
    "np.min(array)"
   ]
  },
  {
   "cell_type": "code",
   "execution_count": 72,
   "id": "b6dc8a74",
   "metadata": {},
   "outputs": [
    {
     "data": {
      "text/plain": [
       "19.9822434754959"
      ]
     },
     "execution_count": 72,
     "metadata": {},
     "output_type": "execute_result"
    }
   ],
   "source": [
    "np.var(array)"
   ]
  }
 ],
 "metadata": {
  "kernelspec": {
   "display_name": "Python 3 (ipykernel)",
   "language": "python",
   "name": "python3"
  },
  "language_info": {
   "codemirror_mode": {
    "name": "ipython",
    "version": 3
   },
   "file_extension": ".py",
   "mimetype": "text/x-python",
   "name": "python",
   "nbconvert_exporter": "python",
   "pygments_lexer": "ipython3",
   "version": "3.10.4"
  }
 },
 "nbformat": 4,
 "nbformat_minor": 5
}
