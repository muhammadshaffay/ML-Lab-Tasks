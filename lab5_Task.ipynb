{
 "cells": [
  {
   "cell_type": "markdown",
   "id": "20f5ab3c",
   "metadata": {},
   "source": [
    "You and your friend are standing in front of a magician and he has a basket with 6 white,\n",
    "4 red and 5 blue balls, each time the magician draws 3 balls and asks you to predict\n",
    "what would be the color of the balls. If you predict correctly the magician loses the\n",
    "game and you win. Since you have become a statistician after doing the ML assignment,\n",
    "what should be the optimal color scheme of the balls that you would propose in order\n",
    "to win the game?"
   ]
  },
  {
   "cell_type": "code",
   "execution_count": 1,
   "id": "417980d2",
   "metadata": {},
   "outputs": [],
   "source": [
    "import math"
   ]
  },
  {
   "cell_type": "code",
   "execution_count": 2,
   "id": "4f1f488c",
   "metadata": {},
   "outputs": [],
   "source": [
    "array = ['w','r','b']\n",
    "\n",
    "combinations = []\n",
    "\n",
    "for i in array:\n",
    "    for j in array:\n",
    "        for k in array:\n",
    "            \n",
    "            combination = i + j + k\n",
    "            combinations.append(combination)"
   ]
  },
  {
   "cell_type": "code",
   "execution_count": 3,
   "id": "8205122b",
   "metadata": {},
   "outputs": [],
   "source": [
    "probabilities = []\n",
    "\n",
    "for i in combinations:\n",
    "    \n",
    "    w , r , b  = 0 , 0 , 0\n",
    "    \n",
    "    for j in i:\n",
    "        if j == 'w':\n",
    "            w += 1\n",
    "        elif j == 'r':\n",
    "            r += 1        \n",
    "        elif j == 'b':\n",
    "            b += 1\n",
    "            \n",
    "    comb_1 = math.comb(6, w)           \n",
    "    comb_2 = math.comb(4, r)  \n",
    "    comb_3 = math.comb(5, b)\n",
    "    comb_4 = math.comb(15, 3)\n",
    "    \n",
    "    probabilities.append((comb_1 * comb_2 * comb_3) / comb_4)"
   ]
  },
  {
   "cell_type": "code",
   "execution_count": 4,
   "id": "5e74d785",
   "metadata": {},
   "outputs": [
    {
     "name": "stdout",
     "output_type": "stream",
     "text": [
      "0.26373626373626374\n",
      "wrb\n"
     ]
    }
   ],
   "source": [
    "index = 0\n",
    "maxi = 0\n",
    "\n",
    "for i , value in enumerate(probabilities):\n",
    "    \n",
    "    if value > maxi:\n",
    "        maxi = value\n",
    "        index = i\n",
    "\n",
    "print(probabilities[index])\n",
    "print(combinations[index])"
   ]
  },
  {
   "cell_type": "markdown",
   "id": "ea451812",
   "metadata": {},
   "source": [
    "Write a function that takes input from user and determines the input parameters belong\n",
    "which class (using Naïve assumptions) (use the provided dataset) . Compare your results\n",
    "with GaussianNB() built in function"
   ]
  },
  {
   "cell_type": "code",
   "execution_count": 5,
   "id": "152d386f",
   "metadata": {},
   "outputs": [],
   "source": [
    "import numpy as np\n",
    "import pandas as pd"
   ]
  },
  {
   "cell_type": "code",
   "execution_count": 16,
   "id": "cff4b4da",
   "metadata": {},
   "outputs": [
    {
     "data": {
      "text/html": [
       "<div>\n",
       "<style scoped>\n",
       "    .dataframe tbody tr th:only-of-type {\n",
       "        vertical-align: middle;\n",
       "    }\n",
       "\n",
       "    .dataframe tbody tr th {\n",
       "        vertical-align: top;\n",
       "    }\n",
       "\n",
       "    .dataframe thead th {\n",
       "        text-align: right;\n",
       "    }\n",
       "</style>\n",
       "<table border=\"1\" class=\"dataframe\">\n",
       "  <thead>\n",
       "    <tr style=\"text-align: right;\">\n",
       "      <th></th>\n",
       "      <th>SepalLength</th>\n",
       "      <th>SepalWidth</th>\n",
       "      <th>PetalLength</th>\n",
       "      <th>PetalWidth</th>\n",
       "      <th>Class</th>\n",
       "    </tr>\n",
       "  </thead>\n",
       "  <tbody>\n",
       "    <tr>\n",
       "      <th>0</th>\n",
       "      <td>4.9</td>\n",
       "      <td>3.0</td>\n",
       "      <td>1.4</td>\n",
       "      <td>0.2</td>\n",
       "      <td>Iris-setosa</td>\n",
       "    </tr>\n",
       "    <tr>\n",
       "      <th>1</th>\n",
       "      <td>4.7</td>\n",
       "      <td>3.2</td>\n",
       "      <td>1.3</td>\n",
       "      <td>0.2</td>\n",
       "      <td>Iris-setosa</td>\n",
       "    </tr>\n",
       "    <tr>\n",
       "      <th>2</th>\n",
       "      <td>4.6</td>\n",
       "      <td>3.1</td>\n",
       "      <td>1.5</td>\n",
       "      <td>0.2</td>\n",
       "      <td>Iris-setosa</td>\n",
       "    </tr>\n",
       "    <tr>\n",
       "      <th>3</th>\n",
       "      <td>5.0</td>\n",
       "      <td>3.6</td>\n",
       "      <td>1.4</td>\n",
       "      <td>0.2</td>\n",
       "      <td>Iris-setosa</td>\n",
       "    </tr>\n",
       "    <tr>\n",
       "      <th>4</th>\n",
       "      <td>5.4</td>\n",
       "      <td>3.9</td>\n",
       "      <td>1.7</td>\n",
       "      <td>0.4</td>\n",
       "      <td>Iris-setosa</td>\n",
       "    </tr>\n",
       "    <tr>\n",
       "      <th>...</th>\n",
       "      <td>...</td>\n",
       "      <td>...</td>\n",
       "      <td>...</td>\n",
       "      <td>...</td>\n",
       "      <td>...</td>\n",
       "    </tr>\n",
       "    <tr>\n",
       "      <th>144</th>\n",
       "      <td>6.7</td>\n",
       "      <td>3.0</td>\n",
       "      <td>5.2</td>\n",
       "      <td>2.3</td>\n",
       "      <td>Iris-virginica</td>\n",
       "    </tr>\n",
       "    <tr>\n",
       "      <th>145</th>\n",
       "      <td>6.3</td>\n",
       "      <td>2.5</td>\n",
       "      <td>5.0</td>\n",
       "      <td>1.9</td>\n",
       "      <td>Iris-virginica</td>\n",
       "    </tr>\n",
       "    <tr>\n",
       "      <th>146</th>\n",
       "      <td>6.5</td>\n",
       "      <td>3.0</td>\n",
       "      <td>5.2</td>\n",
       "      <td>2.0</td>\n",
       "      <td>Iris-virginica</td>\n",
       "    </tr>\n",
       "    <tr>\n",
       "      <th>147</th>\n",
       "      <td>6.2</td>\n",
       "      <td>3.4</td>\n",
       "      <td>5.4</td>\n",
       "      <td>2.3</td>\n",
       "      <td>Iris-virginica</td>\n",
       "    </tr>\n",
       "    <tr>\n",
       "      <th>148</th>\n",
       "      <td>5.9</td>\n",
       "      <td>3.0</td>\n",
       "      <td>5.1</td>\n",
       "      <td>1.8</td>\n",
       "      <td>Iris-virginica</td>\n",
       "    </tr>\n",
       "  </tbody>\n",
       "</table>\n",
       "<p>149 rows × 5 columns</p>\n",
       "</div>"
      ],
      "text/plain": [
       "     SepalLength  SepalWidth  PetalLength  PetalWidth           Class\n",
       "0            4.9         3.0          1.4         0.2     Iris-setosa\n",
       "1            4.7         3.2          1.3         0.2     Iris-setosa\n",
       "2            4.6         3.1          1.5         0.2     Iris-setosa\n",
       "3            5.0         3.6          1.4         0.2     Iris-setosa\n",
       "4            5.4         3.9          1.7         0.4     Iris-setosa\n",
       "..           ...         ...          ...         ...             ...\n",
       "144          6.7         3.0          5.2         2.3  Iris-virginica\n",
       "145          6.3         2.5          5.0         1.9  Iris-virginica\n",
       "146          6.5         3.0          5.2         2.0  Iris-virginica\n",
       "147          6.2         3.4          5.4         2.3  Iris-virginica\n",
       "148          5.9         3.0          5.1         1.8  Iris-virginica\n",
       "\n",
       "[149 rows x 5 columns]"
      ]
     },
     "execution_count": 16,
     "metadata": {},
     "output_type": "execute_result"
    }
   ],
   "source": [
    "data = pd.read_csv(\"iris.data\")\n",
    "data.columns=['SepalLength','SepalWidth','PetalLength','PetalWidth','Class']\n",
    "data"
   ]
  },
  {
   "cell_type": "code",
   "execution_count": 17,
   "id": "f727a2e2",
   "metadata": {},
   "outputs": [],
   "source": [
    "dataframe = []\n",
    "\n",
    "dataframe.append(list(data['PetalLength'].dropna()))\n",
    "dataframe.append(list(data['PetalWidth'].dropna()))\n",
    "\n",
    "dataframe.append(list(data['SepalLength'].dropna()))\n",
    "dataframe.append(list(data['SepalWidth'].dropna()))\n",
    "\n",
    "dataframe.append(list(data['Class'].dropna()))\n",
    "\n",
    "dataframe = np.array(dataframe)"
   ]
  },
  {
   "cell_type": "code",
   "execution_count": 18,
   "id": "25d5b701",
   "metadata": {},
   "outputs": [],
   "source": [
    "dataframe_setosa = []\n",
    "dataframe_versicolor = []\n",
    "dataframe_virginica = []\n",
    "\n",
    "for i in range(4):\n",
    "    variable1 = []\n",
    "    variable2 = []\n",
    "    variable3 = []\n",
    "    \n",
    "    dataframe_setosa.append(variable1)\n",
    "    dataframe_versicolor.append(variable2)\n",
    "    dataframe_virginica.append(variable3) "
   ]
  },
  {
   "cell_type": "code",
   "execution_count": 19,
   "id": "3b67b842",
   "metadata": {},
   "outputs": [],
   "source": [
    "for i , value in enumerate(dataframe[4]):\n",
    "    \n",
    "    if value == 'Iris-setosa':\n",
    "        \n",
    "        dataframe_setosa[0].append(dataframe[0][i])\n",
    "        dataframe_setosa[1].append(dataframe[1][i])\n",
    "        dataframe_setosa[2].append(dataframe[2][i])\n",
    "        dataframe_setosa[3].append(dataframe[3][i])\n",
    "        \n",
    "    elif value == 'Iris-versicolor':\n",
    "        \n",
    "        dataframe_versicolor[0].append(dataframe[0][i])\n",
    "        dataframe_versicolor[1].append(dataframe[1][i])\n",
    "        dataframe_versicolor[2].append(dataframe[2][i])\n",
    "        dataframe_versicolor[3].append(dataframe[3][i])\n",
    "        \n",
    "    elif value == 'Iris-virginica':\n",
    "        \n",
    "        dataframe_virginica[0].append(dataframe[0][i])\n",
    "        dataframe_virginica[1].append(dataframe[1][i])\n",
    "        dataframe_virginica[2].append(dataframe[2][i])\n",
    "        dataframe_virginica[3].append(dataframe[3][i])"
   ]
  },
  {
   "cell_type": "code",
   "execution_count": 20,
   "id": "b53272a1",
   "metadata": {},
   "outputs": [],
   "source": [
    "def mean(dataframe):\n",
    "    \n",
    "    means = []\n",
    "    \n",
    "    for i in dataframe:\n",
    "        value = 0\n",
    "        for j in i:\n",
    "\n",
    "            value += float(j)\n",
    "        value = value / len(i)\n",
    "        means.append(value)\n",
    "        \n",
    "    return means    "
   ]
  },
  {
   "cell_type": "code",
   "execution_count": 21,
   "id": "43f034b7",
   "metadata": {},
   "outputs": [
    {
     "name": "stdout",
     "output_type": "stream",
     "text": [
      "Mean Values Are In Sequence : (Petal Length , Petal Width , Sepal Length , Sepal Width)\n",
      "\n",
      "\n",
      "  Setosa :  [1.4653061224489796, 0.2448979591836734, 5.004081632653061, 3.416326530612245]\n",
      "  Versicolor :  [4.26, 1.3259999999999998, 5.936, 2.7700000000000005]\n",
      "  Virginica :  [5.552, 2.026, 6.587999999999998, 2.9739999999999998]\n"
     ]
    }
   ],
   "source": [
    "means_setosa = mean(dataframe_setosa)\n",
    "means_versicolor = mean(dataframe_versicolor)\n",
    "means_virginica = mean(dataframe_virginica)\n",
    "\n",
    "print(\"Mean Values Are In Sequence : (Petal Length , Petal Width , Sepal Length , Sepal Width)\\n\\n\")\n",
    "print(\"  Setosa : \" , means_setosa)\n",
    "print(\"  Versicolor : \" , means_versicolor)\n",
    "print(\"  Virginica : \" , means_virginica)"
   ]
  },
  {
   "cell_type": "code",
   "execution_count": 22,
   "id": "9208f080",
   "metadata": {},
   "outputs": [],
   "source": [
    "def z_centered_classwise(feature1 , feature2, feature3 , feature4, mean1, mean2, mean3, mean4):\n",
    "    \n",
    "    centered1 , centered2 , centered3 , centered4 = [] , [] , [] , []\n",
    "    \n",
    "    for i , value in enumerate(feature1):\n",
    "        variable1 = float(value) - mean1\n",
    "        variable2 = float(feature2[i]) - mean2\n",
    "        variable3 = float(feature3[i]) - mean3\n",
    "        variable4 = float(feature4[i]) - mean4\n",
    "        \n",
    "        centered1.append(variable1)\n",
    "        centered2.append(variable2)\n",
    "        centered3.append(variable3)\n",
    "        centered4.append(variable4)\n",
    "        \n",
    "    array = []\n",
    "    array.append(centered1)\n",
    "    array.append(centered2)\n",
    "    array.append(centered3)\n",
    "    array.append(centered4)\n",
    "\n",
    "    z = np.array(array)\n",
    "    z = z.T\n",
    "    \n",
    "    return z"
   ]
  },
  {
   "cell_type": "code",
   "execution_count": 23,
   "id": "bf940651",
   "metadata": {},
   "outputs": [],
   "source": [
    "def covariance_classwise(feature1 , feature2, feature3, feature4, mean1, mean2, mean3, mean4):\n",
    "    \n",
    "    z = z_centered_classwise(feature1 , feature2, feature3, feature4, mean1, mean2, mean3, mean4)\n",
    "    zT = z.T\n",
    "    \n",
    "    result = zT.dot(z)\n",
    "    result = result / len(feature1)\n",
    "    \n",
    "    print(\"Covariance Matrix X Using Product Formula....\\n\" , result)\n",
    "    return result"
   ]
  },
  {
   "cell_type": "code",
   "execution_count": 24,
   "id": "b6686d8c",
   "metadata": {},
   "outputs": [
    {
     "name": "stdout",
     "output_type": "stream",
     "text": [
      "For Setosa : \n",
      "\n",
      "Covariance Matrix X Using Product Formula....\n",
      " [[0.03002082 0.00563932 0.01626406 0.01179092]\n",
      " [0.00563932 0.01145356 0.01063307 0.01151187]\n",
      " [0.01626406 0.01063307 0.12406497 0.10013744]\n",
      " [0.01179092 0.01151187 0.10013744 0.14503957]]\n"
     ]
    }
   ],
   "source": [
    "print(\"For Setosa : \\n\")\n",
    "covariance_setosa = covariance_classwise(dataframe_setosa[0] , dataframe_setosa[1], dataframe_setosa[2], dataframe_setosa[3], means_setosa[0], means_setosa[1], means_setosa[2], means_setosa[3])"
   ]
  },
  {
   "cell_type": "code",
   "execution_count": 25,
   "id": "6b7a4481",
   "metadata": {},
   "outputs": [
    {
     "name": "stdout",
     "output_type": "stream",
     "text": [
      "For Versicolor : \n",
      "\n",
      "Covariance Matrix X Using Product Formula....\n",
      " [[0.2164   0.07164  0.17924  0.081   ]\n",
      " [0.07164  0.038324 0.054664 0.04038 ]\n",
      " [0.17924  0.054664 0.261104 0.08348 ]\n",
      " [0.081    0.04038  0.08348  0.0965  ]]\n"
     ]
    }
   ],
   "source": [
    "print(\"For Versicolor : \\n\")\n",
    "covariance_versicolor = covariance_classwise(dataframe_versicolor[0] , dataframe_versicolor[1], dataframe_versicolor[2], dataframe_versicolor[3], means_versicolor[0], means_versicolor[1], means_versicolor[2], means_versicolor[3])"
   ]
  },
  {
   "cell_type": "code",
   "execution_count": 26,
   "id": "d577f670",
   "metadata": {},
   "outputs": [
    {
     "name": "stdout",
     "output_type": "stream",
     "text": [
      "For Virginica : \n",
      "\n",
      "Covariance Matrix X Using Product Formula....\n",
      " [[0.298496 0.047848 0.297224 0.069952]\n",
      " [0.047848 0.073924 0.048112 0.046676]\n",
      " [0.297224 0.048112 0.396256 0.091888]\n",
      " [0.069952 0.046676 0.091888 0.101924]]\n"
     ]
    }
   ],
   "source": [
    "print(\"For Virginica : \\n\")\n",
    "covariance_virginica = covariance_classwise(dataframe_virginica[0] , dataframe_virginica[1], dataframe_virginica[2], dataframe_virginica[3], means_virginica[0], means_virginica[1], means_virginica[2], means_virginica[3])"
   ]
  },
  {
   "cell_type": "code",
   "execution_count": 27,
   "id": "bff5ec50",
   "metadata": {},
   "outputs": [],
   "source": [
    "def multivariate_gaussian(determinant , inverse, k, x, means):\n",
    "    \n",
    "    value1 = 1 / ( ( ( (2 * 3.13) ** k ) * determinant ) ** 0.5)\n",
    "    \n",
    "    value2 = (-0.5 * ( (x - means).T ) )\n",
    "    value2.reshape(4,1)\n",
    "    \n",
    "    value3 = np.dot(inverse , (x - means))\n",
    "    \n",
    "    result = value1 * (2.718 ** np.dot(value2 , value3))\n",
    "    \n",
    "    return result"
   ]
  },
  {
   "cell_type": "code",
   "execution_count": 28,
   "id": "e8ec4c85",
   "metadata": {},
   "outputs": [],
   "source": [
    "def probability_class(covariance , mean, datapoint):\n",
    "   \n",
    "    # update covariance\n",
    "    for i in range(len(covariance)):\n",
    "        for j in range(len(covariance[i])):\n",
    "            if i != j :\n",
    "                covariance[i][j] = 0    \n",
    "\n",
    "    # determinant\n",
    "    determinant = np.linalg.det(covariance)\n",
    "\n",
    "    # inverse\n",
    "    inverse = np.linalg.inv(covariance)\n",
    "\n",
    "    # mean\n",
    "    means = np.array(mean)\n",
    "    \n",
    "    # k \n",
    "    k = 4\n",
    "\n",
    "    # x\n",
    "    x = np.array(datapoint)\n",
    "    \n",
    "    return multivariate_gaussian(determinant , inverse, k, x, means)"
   ]
  },
  {
   "cell_type": "code",
   "execution_count": 29,
   "id": "4853af2d",
   "metadata": {},
   "outputs": [],
   "source": [
    "datapoint = [6, 4, 5.5, 4]\n",
    "k = 4\n",
    "\n",
    "probabilities_classes = []\n",
    "\n",
    "# Setosa\n",
    "probabilities_classes.append(0.33 * probability_class(covariance_setosa , means_setosa, datapoint))\n",
    "\n",
    "# Versicolor\n",
    "probabilities_classes.append(0.33 * probability_class(covariance_versicolor  , means_versicolor, datapoint))\n",
    "\n",
    "# Virginica\n",
    "probabilities_classes.append(0.33 * probability_class(covariance_virginica , means_virginica, datapoint))"
   ]
  },
  {
   "cell_type": "code",
   "execution_count": 30,
   "id": "91597685",
   "metadata": {},
   "outputs": [
    {
     "name": "stdout",
     "output_type": "stream",
     "text": [
      "Datapoint Belongs To Class Virginica\n"
     ]
    }
   ],
   "source": [
    "if probabilities_classes[0] > probabilities_classes[1] and probabilities_classes[1] > probabilities_classes[2]:\n",
    "    print(\"Datapoint Belongs To Class Setosa\")\n",
    "          \n",
    "elif probabilities_classes[1] > probabilities_classes[0] and probabilities_classes[1] > probabilities_classes[2]:\n",
    "    print(\"Datapoint Belongs To Class Versicolor\")\n",
    "          \n",
    "elif probabilities_classes[2] > probabilities_classes[0] and probabilities_classes[2] > probabilities_classes[1]:\n",
    "    print(\"Datapoint Belongs To Class Virginica\")"
   ]
  },
  {
   "cell_type": "markdown",
   "id": "59c12c37",
   "metadata": {},
   "source": [
    "Categorize the continuous values and perform the 2 nd task. How well was your\n",
    "categorization? Did it achieve the same results without categorizing the data?"
   ]
  },
  {
   "cell_type": "code",
   "execution_count": null,
   "id": "42f69f1d",
   "metadata": {},
   "outputs": [],
   "source": []
  },
  {
   "cell_type": "markdown",
   "id": "2dcc2dc8",
   "metadata": {},
   "source": [
    "A friend of yours has just opened a pizza shop and he doesn’t want to you come there\n",
    "fearing you would eat for free. Somehow you sneak in the shop and you order an 8 inch\n",
    "pizza , your friend tells you that he doesn’t have an 8 inch pizza but he can give you two\n",
    "5 inch ones at the same price with the exact same things. As a statistician, should you\n",
    "be taking that deal? Is that beneficial for you or not? Give statistical reasoning."
   ]
  },
  {
   "cell_type": "code",
   "execution_count": 12,
   "id": "3e4ee123",
   "metadata": {},
   "outputs": [],
   "source": [
    "r = [5,8]\n",
    "# applying pie * r ** 2 (formula of area) to find which deal is best"
   ]
  },
  {
   "cell_type": "code",
   "execution_count": 13,
   "id": "dc03e909",
   "metadata": {},
   "outputs": [
    {
     "data": {
      "text/plain": [
       "157.0"
      ]
     },
     "execution_count": 13,
     "metadata": {},
     "output_type": "execute_result"
    }
   ],
   "source": [
    "# 2 5 inch pizzas\n",
    "area1 = 3.14 * (r[0] ** 2)\n",
    "area1 = area1 + area1\n",
    "area1"
   ]
  },
  {
   "cell_type": "code",
   "execution_count": 14,
   "id": "5c051861",
   "metadata": {},
   "outputs": [
    {
     "data": {
      "text/plain": [
       "200.96"
      ]
     },
     "execution_count": 14,
     "metadata": {},
     "output_type": "execute_result"
    }
   ],
   "source": [
    "area2 = 3.14 * (r[1] ** 2)\n",
    "area2"
   ]
  },
  {
   "cell_type": "code",
   "execution_count": null,
   "id": "f9417d0f",
   "metadata": {},
   "outputs": [],
   "source": [
    "# as area of one 8 inch pizza is more than that of 2 5 inch pizzas, so this deal is not beneficial "
   ]
  }
 ],
 "metadata": {
  "kernelspec": {
   "display_name": "Python 3 (ipykernel)",
   "language": "python",
   "name": "python3"
  },
  "language_info": {
   "codemirror_mode": {
    "name": "ipython",
    "version": 3
   },
   "file_extension": ".py",
   "mimetype": "text/x-python",
   "name": "python",
   "nbconvert_exporter": "python",
   "pygments_lexer": "ipython3",
   "version": "3.9.12"
  }
 },
 "nbformat": 4,
 "nbformat_minor": 5
}
