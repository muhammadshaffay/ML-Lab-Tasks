{
  "cells": [
    {
      "cell_type": "markdown",
      "id": "037d0fb9",
      "metadata": {
        "id": "037d0fb9"
      },
      "source": [
        "Install Docker(helps in setting up enviroment)\n",
        "\n",
        "Install git\n",
        "-push (Upload File)\n",
        "-pull (Import)\n",
        "-clone (Copy)\n",
        "-commit (Upload Code)"
      ]
    },
    {
      "cell_type": "code",
      "execution_count": null,
      "id": "b5b620bf",
      "metadata": {
        "id": "b5b620bf"
      },
      "outputs": [],
      "source": [
        "import numpy as np\n",
        "import pandas as pd\n",
        "from sklearn.neighbors import KNeighborsClassifier\n",
        "from sklearn.model_selection import train_test_split\n",
        "from sklearn.model_selection import cross_val_score , KFold"
      ]
    },
    {
      "cell_type": "code",
      "execution_count": null,
      "id": "a6b71eb6",
      "metadata": {
        "id": "a6b71eb6"
      },
      "outputs": [],
      "source": [
        "dataframe_1 = pd.read_csv(\"Medicine-Updated.csv\")\n",
        "dataframe_2 = pd.read_csv(\"ECG200_TRAIN.csv\",delimiter=\"  \")"
      ]
    },
    {
      "cell_type": "code",
      "execution_count": null,
      "id": "7ddaae3e",
      "metadata": {
        "id": "7ddaae3e"
      },
      "outputs": [],
      "source": [
        "dataframe_1"
      ]
    },
    {
      "cell_type": "code",
      "execution_count": null,
      "id": "d0251034",
      "metadata": {
        "id": "d0251034"
      },
      "outputs": [],
      "source": [
        "# Working On This Dataframe\n",
        "dataframe_2"
      ]
    },
    {
      "cell_type": "markdown",
      "id": "91112d78",
      "metadata": {
        "id": "91112d78"
      },
      "source": [
        "### Renaming DataFrame "
      ]
    },
    {
      "cell_type": "code",
      "execution_count": null,
      "id": "cbfa6e98",
      "metadata": {
        "id": "cbfa6e98"
      },
      "outputs": [],
      "source": [
        "array = []\n",
        "\n",
        "for i in range(0 , 97):\n",
        "    array.append(i)\n",
        "\n",
        "array[0] = \"Label\""
      ]
    },
    {
      "cell_type": "code",
      "execution_count": null,
      "id": "981a0845",
      "metadata": {
        "id": "981a0845"
      },
      "outputs": [],
      "source": [
        "dataframe_2.set_axis(array, axis='columns', inplace=True)\n",
        "dataframe_2"
      ]
    },
    {
      "cell_type": "markdown",
      "id": "d839bc53",
      "metadata": {
        "id": "d839bc53"
      },
      "source": [
        "### No Empty Cells"
      ]
    },
    {
      "cell_type": "code",
      "execution_count": null,
      "id": "2e7aaafd",
      "metadata": {
        "id": "2e7aaafd"
      },
      "outputs": [],
      "source": [
        "labels = dataframe_2.isna().sum()\n",
        "\n",
        "counter = 0\n",
        "for i in labels:\n",
        "    if i == 0:\n",
        "      counter += 1\n",
        "\n",
        "print(\"Empty Cells Are\" , counter - len(labels))"
      ]
    },
    {
      "cell_type": "markdown",
      "id": "9a5aaf3d",
      "metadata": {
        "id": "9a5aaf3d"
      },
      "source": [
        "### Statistics"
      ]
    },
    {
      "cell_type": "code",
      "execution_count": null,
      "id": "bad399c3",
      "metadata": {
        "id": "bad399c3"
      },
      "outputs": [],
      "source": [
        "dataframe_2.describe()"
      ]
    },
    {
      "cell_type": "code",
      "execution_count": null,
      "id": "89c90940",
      "metadata": {
        "id": "89c90940"
      },
      "outputs": [],
      "source": [
        "dataframe_2['Label'].value_counts()"
      ]
    },
    {
      "cell_type": "markdown",
      "id": "92dcbb18",
      "metadata": {
        "id": "92dcbb18"
      },
      "source": [
        "### Train Test Split (Numpy 70-30)"
      ]
    },
    {
      "cell_type": "code",
      "execution_count": null,
      "id": "699089f5",
      "metadata": {
        "id": "699089f5"
      },
      "outputs": [],
      "source": [
        "numpy_dataframe = dataframe_2.to_numpy()\n",
        "numpy_dataframe"
      ]
    },
    {
      "cell_type": "code",
      "execution_count": null,
      "id": "046831f1",
      "metadata": {
        "id": "046831f1"
      },
      "outputs": [],
      "source": [
        "counter_positive = 0\n",
        "counter_negative = 0\n",
        "\n",
        "train_set = []\n",
        "test_set = []\n",
        "\n",
        "for i in range(len(numpy_dataframe)):\n",
        "    \n",
        "    if numpy_dataframe[i][0] == 1.0 and counter_positive < 48:\n",
        "        train_set.append(numpy_dataframe[i])\n",
        "        counter_positive += 1\n",
        "        \n",
        "    elif numpy_dataframe[i][0] == -1.0 and counter_negative < 20:\n",
        "        train_set.append(numpy_dataframe[i])\n",
        "        counter_negative += 1\n",
        "        \n",
        "    elif numpy_dataframe[i][0] == 1.0 and counter_positive >= 48:\n",
        "        test_set.append(numpy_dataframe[i])\n",
        "        counter_positive += 1\n",
        "        \n",
        "    elif numpy_dataframe[i][0] == -1.0 and counter_negative >= 20:\n",
        "        test_set.append(numpy_dataframe[i])\n",
        "        counter_negative += 1"
      ]
    },
    {
      "cell_type": "code",
      "execution_count": null,
      "id": "d8a047a5",
      "metadata": {
        "id": "d8a047a5"
      },
      "outputs": [],
      "source": [
        "len(train_set)"
      ]
    },
    {
      "cell_type": "code",
      "execution_count": null,
      "id": "68713330",
      "metadata": {
        "id": "68713330"
      },
      "outputs": [],
      "source": [
        "len(test_set)"
      ]
    },
    {
      "cell_type": "markdown",
      "source": [
        "### Accuracies On Numpy Train Test Split"
      ],
      "metadata": {
        "id": "2wdHOpXUU74I"
      },
      "id": "2wdHOpXUU74I"
    },
    {
      "cell_type": "code",
      "source": [
        "def numpy_train_test_split_scores(train_set , test_set):\n",
        "\n",
        "    train = pd.DataFrame(train_set)\n",
        "    test = pd.DataFrame(test_set)\n",
        "\n",
        "    X_train = train.drop([0], axis=1)\n",
        "    Y_train = train[0]\n",
        "\n",
        "    X_test = test.drop([0], axis=1)\n",
        "    Y_test = test[0]\n",
        "\n",
        "    knn = KNeighborsClassifier(n_neighbors=7)\n",
        "    knn.fit(X_train, Y_train)\n",
        "\n",
        "    print(\"Score On Numpy Train Test Split\" , knn.score(X_test, Y_test) * 100)"
      ],
      "metadata": {
        "id": "E6fQMbq7Utnw"
      },
      "id": "E6fQMbq7Utnw",
      "execution_count": null,
      "outputs": []
    },
    {
      "cell_type": "code",
      "source": [
        "numpy_train_test_split_scores(train_set , test_set)"
      ],
      "metadata": {
        "id": "iWqup1cVVfIw"
      },
      "id": "iWqup1cVVfIw",
      "execution_count": null,
      "outputs": []
    },
    {
      "cell_type": "markdown",
      "id": "7812e248",
      "metadata": {
        "id": "7812e248"
      },
      "source": [
        "### K(4) Fold Cross Validation"
      ]
    },
    {
      "cell_type": "code",
      "execution_count": null,
      "id": "f67b0804",
      "metadata": {
        "id": "f67b0804"
      },
      "outputs": [],
      "source": [
        "set_one = []\n",
        "set_two = []\n",
        "set_three = []\n",
        "set_four = []\n",
        "\n",
        "counter_positive = 0\n",
        "counter_negative = 0\n",
        "\n",
        "for i in range(len(numpy_dataframe)):\n",
        "    \n",
        "    if numpy_dataframe[i][0] == 1.0 and counter_positive <= 17:\n",
        "        set_one.append(numpy_dataframe[i])\n",
        "        counter_positive += 1\n",
        "        \n",
        "    elif numpy_dataframe[i][0] == 1.0 and counter_positive > 17 and counter_positive <= 34:\n",
        "        set_two.append(numpy_dataframe[i])\n",
        "        counter_positive += 1\n",
        "        \n",
        "    elif numpy_dataframe[i][0] == 1.0 and counter_positive > 34 and counter_positive <= 51:\n",
        "        set_three.append(numpy_dataframe[i])\n",
        "        counter_positive += 1\n",
        "        \n",
        "    elif numpy_dataframe[i][0] == 1.0 and counter_positive > 51:\n",
        "        set_four.append(numpy_dataframe[i])\n",
        "        counter_positive += 1\n",
        "    \n",
        "    elif numpy_dataframe[i][0] == -1.0 and counter_negative <= 7:\n",
        "        set_one.append(numpy_dataframe[i])\n",
        "        counter_negative += 1\n",
        "        \n",
        "    elif numpy_dataframe[i][0] == -1.0 and counter_negative > 7 and counter_negative <= 14:\n",
        "        set_two.append(numpy_dataframe[i])\n",
        "        counter_negative += 1\n",
        "        \n",
        "    elif numpy_dataframe[i][0] == -1.0 and counter_negative > 14 and counter_negative <= 21:\n",
        "        set_three.append(numpy_dataframe[i])\n",
        "        counter_negative += 1\n",
        "        \n",
        "    elif numpy_dataframe[i][0] == -1.0 and counter_negative > 21:\n",
        "        set_four.append(numpy_dataframe[i])\n",
        "        counter_negative += 1"
      ]
    },
    {
      "cell_type": "code",
      "execution_count": null,
      "id": "2144c9b8",
      "metadata": {
        "id": "2144c9b8"
      },
      "outputs": [],
      "source": [
        "print(len(set_one))\n",
        "print(len(set_two))\n",
        "print(len(set_three))\n",
        "print(len(set_four))"
      ]
    },
    {
      "cell_type": "markdown",
      "id": "2fca7c1f",
      "metadata": {
        "id": "2fca7c1f"
      },
      "source": [
        "### Making Dataframe"
      ]
    },
    {
      "cell_type": "code",
      "execution_count": null,
      "id": "84ad920c",
      "metadata": {
        "id": "84ad920c"
      },
      "outputs": [],
      "source": [
        "def all_k_fold_combinations(one, two, three, four):\n",
        "\n",
        "      train = pd.DataFrame(one)\n",
        "      dataframe_t1 = pd.DataFrame(two)\n",
        "      dataframe_t2 = pd.DataFrame(three)\n",
        "\n",
        "      train = train.append([dataframe_t1 , dataframe_t2])\n",
        "      test = pd.DataFrame(set_four)\n",
        "\n",
        "      return train , test"
      ]
    },
    {
      "cell_type": "markdown",
      "id": "980c53f6",
      "metadata": {
        "id": "980c53f6"
      },
      "source": [
        "### Separating labels"
      ]
    },
    {
      "cell_type": "code",
      "source": [
        "def label_separator(train , test):\n",
        "\n",
        "    X_train = train.drop([0], axis=1)\n",
        "    Y_train = train[0]\n",
        "\n",
        "    X_test = test.drop([0], axis=1)\n",
        "    Y_test = test[0]\n",
        "\n",
        "    return X_train , Y_train , X_test , Y_test"
      ],
      "metadata": {
        "id": "jzyZ75pETBMA"
      },
      "id": "jzyZ75pETBMA",
      "execution_count": null,
      "outputs": []
    },
    {
      "cell_type": "markdown",
      "id": "2bb6e709",
      "metadata": {
        "id": "2bb6e709"
      },
      "source": [
        "### Applying Model"
      ]
    },
    {
      "cell_type": "code",
      "execution_count": null,
      "id": "704ae208",
      "metadata": {
        "id": "704ae208"
      },
      "outputs": [],
      "source": [
        "def model(X_train , Y_train , X_test , Y_test):\n",
        "\n",
        "    knn = KNeighborsClassifier(n_neighbors=7)\n",
        "    knn.fit(X_train, Y_train)\n",
        "\n",
        "    return knn.score(X_test, Y_test) * 100"
      ]
    },
    {
      "cell_type": "markdown",
      "source": [
        "### Accuracies On Numpy K fold Cross Validation"
      ],
      "metadata": {
        "id": "glHEsG7TT33g"
      },
      "id": "glHEsG7TT33g"
    },
    {
      "cell_type": "code",
      "execution_count": null,
      "id": "4b4a83e2",
      "metadata": {
        "id": "4b4a83e2"
      },
      "outputs": [],
      "source": [
        "def k_fold_combinations_accuracies(set_one , set_two , set_three , set_four):\n",
        "\n",
        "    accuracies = []\n",
        "\n",
        "# First Combination\n",
        "    train , test = all_k_fold_combinations(set_one , set_two , set_three , set_four)\n",
        "    X_train , Y_train , X_test , Y_test = label_separator(train , test)\n",
        "    accuracies.append(model(X_train , Y_train , X_test , Y_test))\n",
        "\n",
        "# Second Combination\n",
        "    train , test = all_k_fold_combinations(set_one , set_two , set_four , set_three)\n",
        "    X_train , Y_train , X_test , Y_test = label_separator(train , test)\n",
        "    accuracies.append(model(X_train , Y_train , X_test , Y_test))\n",
        "\n",
        "# Third Combination\n",
        "    train , test = all_k_fold_combinations(set_one , set_three , set_four , set_two)\n",
        "    X_train , Y_train , X_test , Y_test = label_separator(train , test)\n",
        "    accuracies.append(model(X_train , Y_train , X_test , Y_test))\n",
        "\n",
        "# Fourth Combination\n",
        "    train , test = all_k_fold_combinations(set_two , set_three , set_four , set_one)\n",
        "    X_train , Y_train , X_test , Y_test = label_separator(train , test)\n",
        "    accuracies.append(model(X_train , Y_train , X_test , Y_test))\n",
        "\n",
        "    print(\"Mean Score On Numpy K Fold Cross Validation\" , np.mean(accuracies))"
      ]
    },
    {
      "cell_type": "code",
      "source": [
        "k_fold_combinations_accuracies(set_one , set_two , set_three , set_four)"
      ],
      "metadata": {
        "id": "9IoE49_nT-2B"
      },
      "id": "9IoE49_nT-2B",
      "execution_count": null,
      "outputs": []
    },
    {
      "cell_type": "markdown",
      "source": [
        "### Scikit Learn Train Test Split"
      ],
      "metadata": {
        "id": "K_G2v4K6V3EY"
      },
      "id": "K_G2v4K6V3EY"
    },
    {
      "cell_type": "code",
      "source": [
        "X = dataframe_2.drop(['Label'], axis=1)\n",
        "Y = dataframe_2['Label']"
      ],
      "metadata": {
        "id": "3Tw5FSAFWeJn"
      },
      "id": "3Tw5FSAFWeJn",
      "execution_count": null,
      "outputs": []
    },
    {
      "cell_type": "code",
      "source": [
        "X_train, X_test, Y_train, Y_test = train_test_split(X, Y, test_size=0.30, random_state=42)\n",
        "\n",
        "knn = KNeighborsClassifier(n_neighbors=7)\n",
        "knn.fit(X_train, Y_train)\n",
        "\n",
        "print(\"Score On SKLEARN Train Test Split\" , knn.score(X_test, Y_test) * 100)"
      ],
      "metadata": {
        "id": "aUrJFhC1UA2P"
      },
      "id": "aUrJFhC1UA2P",
      "execution_count": null,
      "outputs": []
    },
    {
      "cell_type": "markdown",
      "source": [
        "### Built In Kfold Function"
      ],
      "metadata": {
        "id": "AfulA-7ObjqO"
      },
      "id": "AfulA-7ObjqO"
    },
    {
      "cell_type": "code",
      "source": [
        "kf = KFold(n_splits = 4 , shuffle = True , random_state = 42)\n",
        "knn = KNeighborsClassifier(n_neighbors=7)\n",
        "\n",
        "accuracies = cross_val_score(knn , X , Y , cv=kf)\n",
        "print(\"Mean Score On Numpy K Fold Cross Validation\" , np.mean(accuracies) * 100)"
      ],
      "metadata": {
        "id": "pR-eJRhTWRmZ"
      },
      "id": "pR-eJRhTWRmZ",
      "execution_count": null,
      "outputs": []
    },
    {
      "cell_type": "markdown",
      "source": [
        "### Final Analysis"
      ],
      "metadata": {
        "id": "P7qEKAE3fHkH"
      },
      "id": "P7qEKAE3fHkH"
    },
    {
      "cell_type": "markdown",
      "source": [
        "1) The accuracy score on 'numpy train test split' is 80 and on 'sklearn train test split' is 86.66. So it seems that sklearn in much better approach than numpy because it's results are better and provides random shuffling feature.\n",
        "\n",
        "2) On the other hand, mean accuracy score on 'numpy K fold cross validation' is 82 and on 'sklearn K fold cross validation' is almost 79. The difference is not too much.\n",
        "\n",
        "3) Although results are near to each other in both modules, sklearn is much better as compared to numpy because it provides built-in functions that are not only easy to use but also provide almost same(or most of the times even better) results."
      ],
      "metadata": {
        "id": "dRYLKXHwfRMW"
      },
      "id": "dRYLKXHwfRMW"
    }
  ],
  "metadata": {
    "kernelspec": {
      "display_name": "Python 3 (ipykernel)",
      "language": "python",
      "name": "python3"
    },
    "language_info": {
      "codemirror_mode": {
        "name": "ipython",
        "version": 3
      },
      "file_extension": ".py",
      "mimetype": "text/x-python",
      "name": "python",
      "nbconvert_exporter": "python",
      "pygments_lexer": "ipython3",
      "version": "3.8.10"
    },
    "colab": {
      "name": "implementation.ipynb",
      "provenance": [],
      "collapsed_sections": []
    }
  },
  "nbformat": 4,
  "nbformat_minor": 5
}