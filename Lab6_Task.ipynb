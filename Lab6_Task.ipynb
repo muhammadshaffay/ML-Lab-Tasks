{
  "nbformat": 4,
  "nbformat_minor": 0,
  "metadata": {
    "colab": {
      "private_outputs": true,
      "provenance": [],
      "collapsed_sections": []
    },
    "kernelspec": {
      "name": "python3",
      "display_name": "Python 3"
    },
    "language_info": {
      "name": "python"
    }
  },
  "cells": [
    {
      "cell_type": "markdown",
      "source": [
        "##### Use naïve bayes classifer on the Tennis play dataset, your code should ask the user to input some features and return the class of the input"
      ],
      "metadata": {
        "id": "7ZBtHgUZDyDy"
      }
    },
    {
      "cell_type": "code",
      "execution_count": null,
      "metadata": {
        "id": "R0sCUpfG3BRi"
      },
      "outputs": [],
      "source": [
        "import numpy as np\n",
        "import pandas as pd"
      ]
    },
    {
      "cell_type": "code",
      "source": [
        "data = pd.read_csv('play_tennis.csv')\n",
        "data = data.drop('day',axis=1)\n",
        "data"
      ],
      "metadata": {
        "id": "9AEPuKaT3JTS"
      },
      "execution_count": null,
      "outputs": []
    },
    {
      "cell_type": "code",
      "source": [
        "def class_probability(classification , feature1, feature2, feature3, feature4, data):\n",
        "\n",
        "    probability_feature1 , probability_feature2 , probability_feature3 , probability_feature4 = 0 ,0 ,0 ,0\n",
        "\n",
        "    classification_count = 0\n",
        "\n",
        "    for i in data['play']:\n",
        "        if i == classification:\n",
        "            classification_count += 1\n",
        "\n",
        "    for i in range(len(data)):\n",
        "\n",
        "        if data['outlook'].iloc[i] == feature1 and data['play'].iloc[i]  == classification: \n",
        "              probability_feature1 += 1\n",
        "\n",
        "        if data['temp'].iloc[i] == feature2 and data['play'].iloc[i]  == classification: \n",
        "              probability_feature2 += 1\n",
        "\n",
        "        if data['humidity'].iloc[i] == feature3 and data['play'].iloc[i]  == classification:  \n",
        "              probability_feature3 += 1\n",
        "\n",
        "        if data['wind'].iloc[i] == feature4 and data['play'].iloc[i]  == classification: \n",
        "              probability_feature4 += 1 \n",
        "\n",
        "    \n",
        "    probability_feature1 = probability_feature1 / classification_count  \n",
        "    probability_feature2 = probability_feature2 / classification_count      \n",
        "    probability_feature3 = probability_feature3 / classification_count  \n",
        "    probability_feature4 = probability_feature4 / classification_count\n",
        "\n",
        "    total = probability_feature1  * probability_feature2 * probability_feature3 * probability_feature4 *  (classification_count / len(data))\n",
        "\n",
        "    return total              "
      ],
      "metadata": {
        "id": "KESwjngd3eZB"
      },
      "execution_count": null,
      "outputs": []
    },
    {
      "cell_type": "code",
      "source": [
        "def predictions(data):\n",
        "\n",
        "    array = []\n",
        "    for i in range(len(data)):\n",
        "# probability of yes\n",
        "        yes = class_probability('Yes' , data['outlook'].iloc[i], data['temp'].iloc[i], data['humidity'].iloc[i], data['wind'].iloc[i], data)\n",
        "\n",
        "# probability of no\n",
        "        no = class_probability('No' , data['outlook'].iloc[i], data['temp'].iloc[i], data['humidity'].iloc[i], data['wind'].iloc[i], data)\n",
        "\n",
        "        if (yes > no):\n",
        "            array.append('Yes')\n",
        "        else:\n",
        "            array.append('No')\n",
        "\n",
        "    return array"
      ],
      "metadata": {
        "id": "ScHKi8JZ6XmK"
      },
      "execution_count": null,
      "outputs": []
    },
    {
      "cell_type": "code",
      "source": [
        "pred = predictions(data)\n",
        "target = data['play'].values"
      ],
      "metadata": {
        "id": "HYG6g6lI_Cwi"
      },
      "execution_count": null,
      "outputs": []
    },
    {
      "cell_type": "code",
      "source": [
        "def accuracy(pred,target):\n",
        "  \n",
        "  count = 0\n",
        "  for i , value in enumerate(pred):\n",
        "\n",
        "      if value == target[i]:\n",
        "          count += 1\n",
        "\n",
        "  return (count / len(data)) * 100"
      ],
      "metadata": {
        "id": "QoPRtSgW8X1I"
      },
      "execution_count": null,
      "outputs": []
    },
    {
      "cell_type": "code",
      "source": [
        "accuracy(pred,target)"
      ],
      "metadata": {
        "id": "jV14ZNhY_taE"
      },
      "execution_count": null,
      "outputs": []
    },
    {
      "cell_type": "code",
      "source": [
        "def inference(data):\n",
        "\n",
        "    f1 = input(\"Outlook : \")\n",
        "    f2 = input(\"Temp : \")\n",
        "    f3 = input(\"Humidity : \")\n",
        "    f4 = input(\"Wind : \")\n",
        "\n",
        "\n",
        "   # probability of yes\n",
        "    yes = class_probability('Yes' , f1, f2, f3, f4, data)\n",
        "\n",
        "# probability of no\n",
        "    no = class_probability('No' , f1, f2, f3, f4, data)\n",
        "\n",
        "    if (yes > no):\n",
        "          print('\\nYes')\n",
        "    else:\n",
        "          print('\\nNo') "
      ],
      "metadata": {
        "id": "6ofFfKvDChFC"
      },
      "execution_count": null,
      "outputs": []
    },
    {
      "cell_type": "code",
      "source": [
        "inference(data)"
      ],
      "metadata": {
        "id": "N6caolEDDXCY"
      },
      "execution_count": null,
      "outputs": []
    },
    {
      "cell_type": "markdown",
      "source": [
        "### Use bayesian classification to detect the class of a test sentence. Once use naïve bayes to classify the test sentence and then remove the naïve assumption and classify the sentence."
      ],
      "metadata": {
        "id": "5Ggn4rKGD9L3"
      }
    },
    {
      "cell_type": "markdown",
      "source": [
        "##### Naive Bayes"
      ],
      "metadata": {
        "id": "--4Wv0x0tsMY"
      }
    },
    {
      "cell_type": "code",
      "source": [
        "positive = ['I love mangoes', 'Mangoes are a lot tastier than other fruits', 'I like mangoes because they are good' , 'Apples are good too but I prefer mangoes', 'People say mango is the king of fruit so that is why mangoes are good' , 'Mangoes are good because they are juicy']\n",
        "positive"
      ],
      "metadata": {
        "id": "BGq7yw4fEAq_"
      },
      "execution_count": null,
      "outputs": []
    },
    {
      "cell_type": "code",
      "source": [
        "negative = ['Eating too many mangoes can have a negative impact on your health','Mangoes are good but not too good, I like apples more than mangoes','I don’t like mangoes','Mangoes are not good','I don’t like mangoes because they are expensive']\n",
        "negative"
      ],
      "metadata": {
        "id": "nS3GW4JnJ39X"
      },
      "execution_count": null,
      "outputs": []
    },
    {
      "cell_type": "code",
      "source": [
        "positives = []\n",
        "\n",
        "for i in positive:\n",
        "    positives.append(i.split(' '))\n",
        "\n",
        "positive = []\n",
        "for i in positives:\n",
        "  for j in i:\n",
        "    positive.append(j.lower())"
      ],
      "metadata": {
        "id": "6OaelZ2gO1Iy"
      },
      "execution_count": null,
      "outputs": []
    },
    {
      "cell_type": "code",
      "source": [
        "negatives = []\n",
        "\n",
        "for i in negative:\n",
        "    negatives.append(i.split(' '))\n",
        "\n",
        "negative = []\n",
        "for i in negatives:\n",
        "  for j in i:\n",
        "    negative.append(j.lower())"
      ],
      "metadata": {
        "id": "QW59XSdPnGJs"
      },
      "execution_count": null,
      "outputs": []
    },
    {
      "cell_type": "code",
      "source": [
        "def naivebayes(positives , negatives, sentence):\n",
        "\n",
        "      sentence = sentence.lower().split(' ')\n",
        "      \n",
        "      # for positives\n",
        "      probability_positive = 1\n",
        "\n",
        "      for i in sentence:\n",
        "        counter = 0\n",
        "        for j in positives:\n",
        "              if i == j[0]:\n",
        "                    counter += 1\n",
        "\n",
        "        probability_positive *= counter / len(positives)  \n",
        "\n",
        "      # for negatives\n",
        "      probability_negative = 1\n",
        "\n",
        "      for i in sentence:\n",
        "        counter = 0\n",
        "        for j in negatives:\n",
        "              if i == j[0]:\n",
        "                    counter += 1\n",
        "\n",
        "        probability_negative *= counter / len(negatives)  \n",
        "\n",
        "      if ((probability_positive * (6/11)) > (probability_negative * (5/11))):\n",
        "            print(\"Positive\")\n",
        "      else:\n",
        "            print(\"Negative\")"
      ],
      "metadata": {
        "id": "R-c1ZQz-KOIw"
      },
      "execution_count": null,
      "outputs": []
    },
    {
      "cell_type": "code",
      "source": [
        "sentence = input(\"Enter Sentence : \")\n",
        "naivebayes(positives , negatives, sentence)"
      ],
      "metadata": {
        "id": "peq3SK7Eo5Ek"
      },
      "execution_count": null,
      "outputs": []
    },
    {
      "cell_type": "code",
      "source": [
        "sentence = input(\"Enter Sentence : \")\n",
        "naivebayes(positives , negatives, sentence)"
      ],
      "metadata": {
        "id": "YIlgREOWo6nL"
      },
      "execution_count": null,
      "outputs": []
    },
    {
      "cell_type": "markdown",
      "source": [
        "##### Bayes"
      ],
      "metadata": {
        "id": "LuYaWvewtxRk"
      }
    },
    {
      "cell_type": "code",
      "source": [
        "def bayes(positives , negatives, sentence):\n",
        "\n",
        "      sentence = sentence.lower().split(' ')\n",
        "      \n",
        "      # for positives\n",
        "      probability_positive = 1\n",
        "\n",
        "      for i in range(len(sentence)):\n",
        "        counter = 0\n",
        "        for j in range(len(positives)):\n",
        "            if i > 0 and j > 0: \n",
        "              if sentence[i] == positives[j][0] and sentence[i-1] == positives[j-1][0]:\n",
        "                    counter += 1\n",
        "            else:\n",
        "               if sentence[i] == positives[j][0]:\n",
        "                    counter += 1             \n",
        "\n",
        "        probability_positive *= counter / len(positives)  \n",
        "\n",
        "      # for negatives\n",
        "      probability_negative = 1\n",
        " \n",
        "      for i in range(len(sentence)):\n",
        "        counter = 0\n",
        "        for j in range(len(negatives)):\n",
        "            if i > 0 and j > 0: \n",
        "              if sentence[i] == negatives[j][0] and sentence[i-1] == negatives[j-1][0]:\n",
        "                    counter += 1\n",
        "            else:\n",
        "               if sentence[i] == negatives[j][0]:\n",
        "                    counter += 1   \n",
        "\n",
        "        probability_negative *= counter / len(negatives) \n",
        "        \n",
        "\n",
        "      if ((probability_positive * (6/11)) > (probability_negative * (5/11))):\n",
        "            print(\"Positive\")\n",
        "      else:\n",
        "            print(\"Negative\")"
      ],
      "metadata": {
        "id": "zSxteOA1rnEU"
      },
      "execution_count": null,
      "outputs": []
    },
    {
      "cell_type": "code",
      "source": [
        "sentence = input(\"Enter Sentence : \")\n",
        "bayes(positives , negatives, sentence)"
      ],
      "metadata": {
        "id": "VW6UiYRww2o0"
      },
      "execution_count": null,
      "outputs": []
    },
    {
      "cell_type": "code",
      "source": [
        "sentence = input(\"Enter Sentence : \")\n",
        "bayes(positives , negatives, sentence)"
      ],
      "metadata": {
        "id": "PmnSEos-w6mj"
      },
      "execution_count": null,
      "outputs": []
    }
  ]
}