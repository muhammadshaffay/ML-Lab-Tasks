{
 "cells": [
  {
   "cell_type": "markdown",
   "metadata": {
    "id": "7ZBtHgUZDyDy"
   },
   "source": [
    "##### Use naïve bayes classifer on the Tennis play dataset, your code should ask the user to input some features and return the class of the input"
   ]
  },
  {
   "cell_type": "code",
   "execution_count": 1,
   "metadata": {
    "id": "R0sCUpfG3BRi"
   },
   "outputs": [],
   "source": [
    "import numpy as np\n",
    "import pandas as pd"
   ]
  },
  {
   "cell_type": "code",
   "execution_count": 2,
   "metadata": {
    "id": "9AEPuKaT3JTS"
   },
   "outputs": [
    {
     "data": {
      "text/html": [
       "<div>\n",
       "<style scoped>\n",
       "    .dataframe tbody tr th:only-of-type {\n",
       "        vertical-align: middle;\n",
       "    }\n",
       "\n",
       "    .dataframe tbody tr th {\n",
       "        vertical-align: top;\n",
       "    }\n",
       "\n",
       "    .dataframe thead th {\n",
       "        text-align: right;\n",
       "    }\n",
       "</style>\n",
       "<table border=\"1\" class=\"dataframe\">\n",
       "  <thead>\n",
       "    <tr style=\"text-align: right;\">\n",
       "      <th></th>\n",
       "      <th>outlook</th>\n",
       "      <th>temp</th>\n",
       "      <th>humidity</th>\n",
       "      <th>wind</th>\n",
       "      <th>play</th>\n",
       "    </tr>\n",
       "  </thead>\n",
       "  <tbody>\n",
       "    <tr>\n",
       "      <th>0</th>\n",
       "      <td>Sunny</td>\n",
       "      <td>Hot</td>\n",
       "      <td>High</td>\n",
       "      <td>Weak</td>\n",
       "      <td>No</td>\n",
       "    </tr>\n",
       "    <tr>\n",
       "      <th>1</th>\n",
       "      <td>Sunny</td>\n",
       "      <td>Hot</td>\n",
       "      <td>High</td>\n",
       "      <td>Strong</td>\n",
       "      <td>No</td>\n",
       "    </tr>\n",
       "    <tr>\n",
       "      <th>2</th>\n",
       "      <td>Overcast</td>\n",
       "      <td>Hot</td>\n",
       "      <td>High</td>\n",
       "      <td>Weak</td>\n",
       "      <td>Yes</td>\n",
       "    </tr>\n",
       "    <tr>\n",
       "      <th>3</th>\n",
       "      <td>Rain</td>\n",
       "      <td>Mild</td>\n",
       "      <td>High</td>\n",
       "      <td>Weak</td>\n",
       "      <td>Yes</td>\n",
       "    </tr>\n",
       "    <tr>\n",
       "      <th>4</th>\n",
       "      <td>Rain</td>\n",
       "      <td>Cool</td>\n",
       "      <td>Normal</td>\n",
       "      <td>Weak</td>\n",
       "      <td>Yes</td>\n",
       "    </tr>\n",
       "    <tr>\n",
       "      <th>5</th>\n",
       "      <td>Rain</td>\n",
       "      <td>Cool</td>\n",
       "      <td>Normal</td>\n",
       "      <td>Strong</td>\n",
       "      <td>No</td>\n",
       "    </tr>\n",
       "    <tr>\n",
       "      <th>6</th>\n",
       "      <td>Overcast</td>\n",
       "      <td>Cool</td>\n",
       "      <td>Normal</td>\n",
       "      <td>Strong</td>\n",
       "      <td>Yes</td>\n",
       "    </tr>\n",
       "    <tr>\n",
       "      <th>7</th>\n",
       "      <td>Sunny</td>\n",
       "      <td>Mild</td>\n",
       "      <td>High</td>\n",
       "      <td>Weak</td>\n",
       "      <td>No</td>\n",
       "    </tr>\n",
       "    <tr>\n",
       "      <th>8</th>\n",
       "      <td>Sunny</td>\n",
       "      <td>Cool</td>\n",
       "      <td>Normal</td>\n",
       "      <td>Weak</td>\n",
       "      <td>Yes</td>\n",
       "    </tr>\n",
       "    <tr>\n",
       "      <th>9</th>\n",
       "      <td>Rain</td>\n",
       "      <td>Mild</td>\n",
       "      <td>Normal</td>\n",
       "      <td>Weak</td>\n",
       "      <td>Yes</td>\n",
       "    </tr>\n",
       "    <tr>\n",
       "      <th>10</th>\n",
       "      <td>Sunny</td>\n",
       "      <td>Mild</td>\n",
       "      <td>Normal</td>\n",
       "      <td>Strong</td>\n",
       "      <td>Yes</td>\n",
       "    </tr>\n",
       "    <tr>\n",
       "      <th>11</th>\n",
       "      <td>Overcast</td>\n",
       "      <td>Mild</td>\n",
       "      <td>High</td>\n",
       "      <td>Strong</td>\n",
       "      <td>Yes</td>\n",
       "    </tr>\n",
       "    <tr>\n",
       "      <th>12</th>\n",
       "      <td>Overcast</td>\n",
       "      <td>Hot</td>\n",
       "      <td>Normal</td>\n",
       "      <td>Weak</td>\n",
       "      <td>Yes</td>\n",
       "    </tr>\n",
       "    <tr>\n",
       "      <th>13</th>\n",
       "      <td>Rain</td>\n",
       "      <td>Mild</td>\n",
       "      <td>High</td>\n",
       "      <td>Strong</td>\n",
       "      <td>No</td>\n",
       "    </tr>\n",
       "  </tbody>\n",
       "</table>\n",
       "</div>"
      ],
      "text/plain": [
       "     outlook  temp humidity    wind play\n",
       "0      Sunny   Hot     High    Weak   No\n",
       "1      Sunny   Hot     High  Strong   No\n",
       "2   Overcast   Hot     High    Weak  Yes\n",
       "3       Rain  Mild     High    Weak  Yes\n",
       "4       Rain  Cool   Normal    Weak  Yes\n",
       "5       Rain  Cool   Normal  Strong   No\n",
       "6   Overcast  Cool   Normal  Strong  Yes\n",
       "7      Sunny  Mild     High    Weak   No\n",
       "8      Sunny  Cool   Normal    Weak  Yes\n",
       "9       Rain  Mild   Normal    Weak  Yes\n",
       "10     Sunny  Mild   Normal  Strong  Yes\n",
       "11  Overcast  Mild     High  Strong  Yes\n",
       "12  Overcast   Hot   Normal    Weak  Yes\n",
       "13      Rain  Mild     High  Strong   No"
      ]
     },
     "execution_count": 2,
     "metadata": {},
     "output_type": "execute_result"
    }
   ],
   "source": [
    "data = pd.read_csv('play_tennis.csv')\n",
    "data = data.drop('day',axis=1)\n",
    "data"
   ]
  },
  {
   "cell_type": "code",
   "execution_count": 3,
   "metadata": {
    "id": "KESwjngd3eZB"
   },
   "outputs": [],
   "source": [
    "def class_probability(classification , feature1, feature2, feature3, feature4, data):\n",
    "\n",
    "    probability_feature1 , probability_feature2 , probability_feature3 , probability_feature4 = 0 ,0 ,0 ,0\n",
    "\n",
    "    classification_count = 0\n",
    "\n",
    "    for i in data['play']:\n",
    "        if i == classification:\n",
    "            classification_count += 1\n",
    "\n",
    "    for i in range(len(data)):\n",
    "\n",
    "        if data['outlook'].iloc[i] == feature1 and data['play'].iloc[i]  == classification: \n",
    "              probability_feature1 += 1\n",
    "\n",
    "        if data['temp'].iloc[i] == feature2 and data['play'].iloc[i]  == classification: \n",
    "              probability_feature2 += 1\n",
    "\n",
    "        if data['humidity'].iloc[i] == feature3 and data['play'].iloc[i]  == classification:  \n",
    "              probability_feature3 += 1\n",
    "\n",
    "        if data['wind'].iloc[i] == feature4 and data['play'].iloc[i]  == classification: \n",
    "              probability_feature4 += 1 \n",
    "\n",
    "    \n",
    "    probability_feature1 = probability_feature1 / classification_count  \n",
    "    probability_feature2 = probability_feature2 / classification_count      \n",
    "    probability_feature3 = probability_feature3 / classification_count  \n",
    "    probability_feature4 = probability_feature4 / classification_count\n",
    "\n",
    "    total = probability_feature1  * probability_feature2 * probability_feature3 * probability_feature4 *  (classification_count / len(data))\n",
    "\n",
    "    return total              "
   ]
  },
  {
   "cell_type": "code",
   "execution_count": 4,
   "metadata": {
    "id": "ScHKi8JZ6XmK"
   },
   "outputs": [],
   "source": [
    "def predictions(data):\n",
    "\n",
    "    array = []\n",
    "    for i in range(len(data)):\n",
    "# probability of yes\n",
    "        yes = class_probability('Yes' , data['outlook'].iloc[i], data['temp'].iloc[i], data['humidity'].iloc[i], data['wind'].iloc[i], data)\n",
    "\n",
    "# probability of no\n",
    "        no = class_probability('No' , data['outlook'].iloc[i], data['temp'].iloc[i], data['humidity'].iloc[i], data['wind'].iloc[i], data)\n",
    "\n",
    "        if (yes > no):\n",
    "            array.append('Yes')\n",
    "        else:\n",
    "            array.append('No')\n",
    "\n",
    "    return array"
   ]
  },
  {
   "cell_type": "code",
   "execution_count": 5,
   "metadata": {
    "id": "HYG6g6lI_Cwi"
   },
   "outputs": [],
   "source": [
    "pred = predictions(data)\n",
    "target = data['play'].values"
   ]
  },
  {
   "cell_type": "code",
   "execution_count": 6,
   "metadata": {
    "id": "QoPRtSgW8X1I"
   },
   "outputs": [],
   "source": [
    "def accuracy(pred,target):\n",
    "  \n",
    "    count = 0\n",
    "    for i , value in enumerate(pred):\n",
    "\n",
    "        if value == target[i]:\n",
    "            count += 1\n",
    "\n",
    "    return (count / len(data)) * 100"
   ]
  },
  {
   "cell_type": "code",
   "execution_count": 7,
   "metadata": {
    "id": "jV14ZNhY_taE"
   },
   "outputs": [
    {
     "data": {
      "text/plain": [
       "92.85714285714286"
      ]
     },
     "execution_count": 7,
     "metadata": {},
     "output_type": "execute_result"
    }
   ],
   "source": [
    "accuracy(pred,target)"
   ]
  },
  {
   "cell_type": "code",
   "execution_count": 8,
   "metadata": {
    "id": "6ofFfKvDChFC"
   },
   "outputs": [],
   "source": [
    "def inference(data):\n",
    "\n",
    "    f1 = input(\"Outlook : \")\n",
    "    f2 = input(\"Temp : \")\n",
    "    f3 = input(\"Humidity : \")\n",
    "    f4 = input(\"Wind : \")\n",
    "\n",
    "\n",
    "   # probability of yes\n",
    "    yes = class_probability('Yes' , f1, f2, f3, f4, data)\n",
    "\n",
    "# probability of no\n",
    "    no = class_probability('No' , f1, f2, f3, f4, data)\n",
    "\n",
    "    if (yes > no):\n",
    "          print('\\nYes')\n",
    "    else:\n",
    "          print('\\nNo') "
   ]
  },
  {
   "cell_type": "code",
   "execution_count": 9,
   "metadata": {
    "id": "N6caolEDDXCY"
   },
   "outputs": [
    {
     "name": "stdout",
     "output_type": "stream",
     "text": [
      "Outlook : Sunny\n",
      "Temp : Hot\n",
      "Humidity : High\n",
      "Wind : Weak\n",
      "\n",
      "No\n"
     ]
    }
   ],
   "source": [
    "inference(data)"
   ]
  },
  {
   "cell_type": "markdown",
   "metadata": {
    "id": "5Ggn4rKGD9L3"
   },
   "source": [
    "### Use bayesian classification to detect the class of a test sentence. Once use naïve bayes to classify the test sentence and then remove the naïve assumption and classify the sentence."
   ]
  },
  {
   "cell_type": "markdown",
   "metadata": {
    "id": "--4Wv0x0tsMY"
   },
   "source": [
    "##### Naive Bayes"
   ]
  },
  {
   "cell_type": "code",
   "execution_count": 10,
   "metadata": {
    "id": "BGq7yw4fEAq_"
   },
   "outputs": [
    {
     "data": {
      "text/plain": [
       "['I love mangoes',\n",
       " 'Mangoes are a lot tastier than other fruits',\n",
       " 'I like mangoes because they are good',\n",
       " 'Apples are good too but I prefer mangoes',\n",
       " 'People say mango is the king of fruit so that is why mangoes are good',\n",
       " 'Mangoes are good because they are juicy']"
      ]
     },
     "execution_count": 10,
     "metadata": {},
     "output_type": "execute_result"
    }
   ],
   "source": [
    "positive = ['I love mangoes', 'Mangoes are a lot tastier than other fruits', 'I like mangoes because they are good' , 'Apples are good too but I prefer mangoes', 'People say mango is the king of fruit so that is why mangoes are good' , 'Mangoes are good because they are juicy']\n",
    "positive"
   ]
  },
  {
   "cell_type": "code",
   "execution_count": 11,
   "metadata": {
    "id": "nS3GW4JnJ39X"
   },
   "outputs": [
    {
     "data": {
      "text/plain": [
       "['Eating too many mangoes can have a negative impact on your health',\n",
       " 'Mangoes are good but not too good, I like apples more than mangoes',\n",
       " 'I don’t like mangoes',\n",
       " 'Mangoes are not good',\n",
       " 'I don’t like mangoes because they are expensive']"
      ]
     },
     "execution_count": 11,
     "metadata": {},
     "output_type": "execute_result"
    }
   ],
   "source": [
    "negative = ['Eating too many mangoes can have a negative impact on your health','Mangoes are good but not too good, I like apples more than mangoes','I don’t like mangoes','Mangoes are not good','I don’t like mangoes because they are expensive']\n",
    "negative"
   ]
  },
  {
   "cell_type": "code",
   "execution_count": 12,
   "metadata": {
    "id": "6OaelZ2gO1Iy"
   },
   "outputs": [],
   "source": [
    "positives = []\n",
    "\n",
    "for i in positive:\n",
    "    positives.append(i.split(' '))\n",
    "\n",
    "positive = []\n",
    "for i in positives:\n",
    "    for j in i:\n",
    "        positive.append(j.lower())"
   ]
  },
  {
   "cell_type": "code",
   "execution_count": 13,
   "metadata": {
    "id": "QW59XSdPnGJs"
   },
   "outputs": [],
   "source": [
    "negatives = []\n",
    "\n",
    "for i in negative:\n",
    "    negatives.append(i.split(' '))\n",
    "\n",
    "negative = []\n",
    "for i in negatives:\n",
    "    for j in i:\n",
    "        negative.append(j.lower())"
   ]
  },
  {
   "cell_type": "code",
   "execution_count": 14,
   "metadata": {
    "id": "R-c1ZQz-KOIw"
   },
   "outputs": [],
   "source": [
    "def naivebayes(positives , negatives, sentence):\n",
    "\n",
    "    sentence = sentence.lower().split(' ')\n",
    "\n",
    "      # for positives\n",
    "    probability_positive = 1\n",
    "\n",
    "    for i in sentence:\n",
    "        counter = 0\n",
    "        for j in positives:\n",
    "            if i == j:\n",
    "                    counter += 1\n",
    "\n",
    "        probability_positive *= counter / len(positives)  \n",
    "\n",
    "      # for negatives\n",
    "    probability_negative = 1\n",
    "\n",
    "    for i in sentence:\n",
    "        counter = 0\n",
    "        for j in negatives:\n",
    "              if i == j:\n",
    "                    counter += 1\n",
    "\n",
    "        probability_negative *= counter / len(negatives)  \n",
    "\n",
    "    if ((probability_positive * (6/11)) > (probability_negative * (5/11))):\n",
    "            print(\"Positive\")\n",
    "    else:\n",
    "            print(\"Negative\")"
   ]
  },
  {
   "cell_type": "code",
   "execution_count": 15,
   "metadata": {
    "id": "peq3SK7Eo5Ek"
   },
   "outputs": [
    {
     "name": "stdout",
     "output_type": "stream",
     "text": [
      "Enter Sentence : Mangoes are good\n",
      "Positive\n"
     ]
    }
   ],
   "source": [
    "sentence = input(\"Enter Sentence : \")\n",
    "naivebayes(positive , negative, sentence)"
   ]
  },
  {
   "cell_type": "code",
   "execution_count": 16,
   "metadata": {
    "id": "YIlgREOWo6nL"
   },
   "outputs": [
    {
     "name": "stdout",
     "output_type": "stream",
     "text": [
      "Enter Sentence : Mangoes are not good\n",
      "Negative\n"
     ]
    }
   ],
   "source": [
    "sentence = input(\"Enter Sentence : \")\n",
    "naivebayes(positive , negative, sentence)"
   ]
  },
  {
   "cell_type": "markdown",
   "metadata": {
    "id": "LuYaWvewtxRk"
   },
   "source": [
    "##### Bayes"
   ]
  },
  {
   "cell_type": "code",
   "execution_count": 17,
   "metadata": {
    "id": "zSxteOA1rnEU"
   },
   "outputs": [],
   "source": [
    "def bayes(positives , negatives, sentence):\n",
    "\n",
    "    sentence = sentence.lower().split(' ')\n",
    "      \n",
    "      # for positives\n",
    "    probability_positive = 1\n",
    "\n",
    "    for i in range(len(sentence)):\n",
    "        counter = 0\n",
    "        for j in range(len(positives)):\n",
    "            if i > 0 and j > 0: \n",
    "                if sentence[i] == positives[j] and sentence[i-1] == positives[j-1]:\n",
    "                    counter += 1\n",
    "            else:\n",
    "                if sentence[i] == positives[j]:\n",
    "                    counter += 1             \n",
    "\n",
    "        probability_positive *= counter / len(positives)  \n",
    "\n",
    "      # for negatives\n",
    "    probability_negative = 1\n",
    " \n",
    "    for i in range(len(sentence)):\n",
    "        counter = 0\n",
    "        for j in range(len(negatives)):\n",
    "            if i > 0 and j > 0: \n",
    "                if sentence[i] == negatives[j] and sentence[i-1] == negatives[j-1]:\n",
    "                    counter += 1\n",
    "            else:\n",
    "                if sentence[i] == negatives[j]:\n",
    "                    counter += 1   \n",
    "\n",
    "        probability_negative *= counter / len(negatives) \n",
    "        \n",
    "    if ((probability_positive * (6/11)) > (probability_negative * (5/11))):\n",
    "            print(\"Positive\")\n",
    "    else:\n",
    "            print(\"Negative\")"
   ]
  },
  {
   "cell_type": "code",
   "execution_count": 18,
   "metadata": {
    "id": "VW6UiYRww2o0"
   },
   "outputs": [
    {
     "name": "stdout",
     "output_type": "stream",
     "text": [
      "Enter Sentence : Mangoes are good\n",
      "Positive\n"
     ]
    }
   ],
   "source": [
    "sentence = input(\"Enter Sentence : \")\n",
    "bayes(positive , negative, sentence)"
   ]
  },
  {
   "cell_type": "code",
   "execution_count": 19,
   "metadata": {
    "id": "PmnSEos-w6mj"
   },
   "outputs": [
    {
     "name": "stdout",
     "output_type": "stream",
     "text": [
      "Enter Sentence : Mangoes are not good\n",
      "Negative\n"
     ]
    }
   ],
   "source": [
    "sentence = input(\"Enter Sentence : \")\n",
    "bayes(positive , negative, sentence)"
   ]
  },
  {
   "cell_type": "code",
   "execution_count": null,
   "metadata": {},
   "outputs": [],
   "source": []
  }
 ],
 "metadata": {
  "colab": {
   "collapsed_sections": [],
   "private_outputs": true,
   "provenance": []
  },
  "kernelspec": {
   "display_name": "Python 3 (ipykernel)",
   "language": "python",
   "name": "python3"
  },
  "language_info": {
   "codemirror_mode": {
    "name": "ipython",
    "version": 3
   },
   "file_extension": ".py",
   "mimetype": "text/x-python",
   "name": "python",
   "nbconvert_exporter": "python",
   "pygments_lexer": "ipython3",
   "version": "3.9.12"
  }
 },
 "nbformat": 4,
 "nbformat_minor": 1
}
